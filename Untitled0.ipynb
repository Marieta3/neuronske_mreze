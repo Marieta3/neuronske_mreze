{
  "nbformat": 4,
  "nbformat_minor": 0,
  "metadata": {
    "colab": {
      "name": "Untitled0.ipynb",
      "provenance": [],
      "toc_visible": true,
      "include_colab_link": true
    },
    "kernelspec": {
      "name": "python3",
      "display_name": "Python 3"
    },
    "language_info": {
      "name": "python"
    },
    "accelerator": "GPU",
    "gpuClass": "standard"
  },
  "cells": [
    {
      "cell_type": "markdown",
      "metadata": {
        "id": "view-in-github",
        "colab_type": "text"
      },
      "source": [
        "<a href=\"https://colab.research.google.com/github/Marieta3/neuronske_mreze/blob/main/Untitled0.ipynb\" target=\"_parent\"><img src=\"https://colab.research.google.com/assets/colab-badge.svg\" alt=\"Open In Colab\"/></a>"
      ]
    },
    {
      "cell_type": "code",
      "execution_count": 2,
      "metadata": {
        "colab": {
          "base_uri": "https://localhost:8080/"
        },
        "id": "o_xsFYGpDQJm",
        "outputId": "7d38bf74-3912-4405-bc57-09758ac7a012"
      },
      "outputs": [
        {
          "output_type": "stream",
          "name": "stdout",
          "text": [
            "Mounted at /content/drive\n",
            "Note: using Google CoLab\n",
            "Colab only includes TensorFlow 2.x; %tensorflow_version has no effect.\n"
          ]
        }
      ],
      "source": [
        "from google.colab import drive\n",
        "drive.mount('/content/drive', force_remount=True)\n",
        "COLAB = True\n",
        "print(\"Note: using Google CoLab\")\n",
        "%tensorflow_version 2.x"
      ]
    },
    {
      "cell_type": "code",
      "source": [
        "import tensorflow as tf\n",
        "from tensorflow.keras.layers import Input, Reshape, Dropout, Dense\n",
        "from tensorflow.keras.layers import Flatten, BatchNormalization\n",
        "from tensorflow.keras.layers import Activation, ZeroPadding2D\n",
        "from tensorflow.keras.layers import LeakyReLU\n",
        "from tensorflow.keras.layers import UpSampling2D, Conv2D, Conv2DTranspose\n",
        "from tensorflow.keras.models import Sequential, Model, load_model\n",
        "from tensorflow.keras.optimizers import Adam\n",
        "import numpy as np\n",
        "from PIL import Image\n",
        "from tqdm import tqdm\n",
        "import os\n",
        "import time\n",
        "import matplotlib.pyplot as plt"
      ],
      "metadata": {
        "id": "fG6YVRCdDwSY"
      },
      "execution_count": 3,
      "outputs": []
    },
    {
      "cell_type": "code",
      "source": [
        "# Nicely formatted time string\n",
        "def hms_string(sec_elapsed):\n",
        "    h = int(sec_elapsed / (60 * 60))\n",
        "    m = int((sec_elapsed % (60 * 60)) / 60)\n",
        "    s = sec_elapsed % 60\n",
        "    return \"{}:{:>02}:{:>05.2f}\".format(h, m, s)"
      ],
      "metadata": {
        "id": "vnaCXbAKD07b"
      },
      "execution_count": 4,
      "outputs": []
    },
    {
      "cell_type": "code",
      "source": [
        "# Generation resolution - Must be square\n",
        "# Training data is also scaled to this.\n",
        "# Note GENERATE_RES 4 or higher\n",
        "# will blow Google CoLab's memory and have not\n",
        "# been tested extensivly.\n",
        "GENERATE_RES = 3 # Generation resolution factor\n",
        "# (1=32, 2=64, 3=96, 4=128, etc.)\n",
        "GENERATE_SQUARE = 32 * GENERATE_RES # rows/cols (should be square)\n",
        "IMAGE_CHANNELS = 3\n",
        "\n",
        "# Preview image\n",
        "PREVIEW_ROWS = 4\n",
        "PREVIEW_COLS = 7\n",
        "PREVIEW_MARGIN = 16\n",
        "\n",
        "# Size vector to generate images from\n",
        "SEED_SIZE = 100\n",
        "\n",
        "# Configuration\n",
        "DATA_PATH = '/content/drive/My Drive/NN-data1'\n",
        "TRAIN_DATA = 'Portraits'\n",
        "CHOSEN_MODEL = 'DCGAN1'    # options: DCGAN1, DCGAN2\n",
        "import datetime\n",
        "now = datetime.datetime.now().strftime('%Y-%m-%d_%H:%M:%S')\n",
        "OUTPUT_PATH = f'{TRAIN_DATA}_{CHOSEN_MODEL}_output_{now}'\n",
        "print(OUTPUT_PATH)\n",
        "\n",
        "EPOCHS = 10\n",
        "BATCH_SIZE = 32\n",
        "BUFFER_SIZE = 60000\n",
        "\n",
        "print(f\"Will generate {GENERATE_SQUARE}px square images.\")"
      ],
      "metadata": {
        "colab": {
          "base_uri": "https://localhost:8080/"
        },
        "id": "Xq92LkASD51D",
        "outputId": "92b5e164-c2dd-47ba-a119-f6c23dae9950"
      },
      "execution_count": 26,
      "outputs": [
        {
          "output_type": "stream",
          "name": "stdout",
          "text": [
            "output-DCGAN1-Portraits-2023-07-29_16:53:15\n",
            "Will generate 96px square images.\n"
          ]
        }
      ]
    },
    {
      "cell_type": "code",
      "source": [
        "# temporary\n",
        "OUTPUT_PATH = \"Portraits_DCGAN1_output_2023-07-29_16:53:15\""
      ],
      "metadata": {
        "id": "qmq71gXHxvTb"
      },
      "execution_count": 44,
      "outputs": []
    },
    {
      "cell_type": "code",
      "source": [
        "# Image set has 4117 images.  Can take over an hour\n",
        "# for initial preprocessing.\n",
        "# Because of this time needed, save a Numpy preprocessed file.\n",
        "# Note, that file is large enough to cause problems for\n",
        "# sume verisons of Pickle,\n",
        "# so Numpy binary files are used.\n",
        "\n",
        "training_binary_path = os.path.join(DATA_PATH,\n",
        "        f'training_data_{GENERATE_SQUARE}_{GENERATE_SQUARE}.npy')\n",
        "\n",
        "print(f\"Looking for file: {training_binary_path}\")\n",
        "\n",
        "if not os.path.isfile(training_binary_path):\n",
        "  start = time.time()\n",
        "  print(\"Loading training images...\")\n",
        "\n",
        "  training_data = []\n",
        "  folder_path = os.path.join(DATA_PATH, TRAIN_DATA)\n",
        "  cnt = 0\n",
        "  for filename in tqdm(os.listdir(folder_path)):\n",
        "    path = os.path.join(folder_path,filename)\n",
        "    image = Image.open(path).convert('RGB').resize((GENERATE_SQUARE,\n",
        "          GENERATE_SQUARE),Image.ANTIALIAS)\n",
        "    arr = np.asarray(image)\n",
        "    flip_1 = np.fliplr(arr)\n",
        "    training_data.append(np.asarray(image))\n",
        "\n",
        "  training_data = np.reshape(training_data,(-1,GENERATE_SQUARE,\n",
        "            GENERATE_SQUARE,IMAGE_CHANNELS))\n",
        "  training_data = training_data.astype(np.float32)\n",
        "  training_data = training_data / 127.5 - 1.\n",
        "\n",
        "\n",
        "  print(\"Saving training image binary...\")\n",
        "  np.save(training_binary_path,training_data)\n",
        "  elapsed = time.time()-start\n",
        "  print (f'Image preprocess time: {hms_string(elapsed)}')\n",
        "else:\n",
        "  print(\"Loading previous training pickle...\")\n",
        "  training_data = np.load(training_binary_path)"
      ],
      "metadata": {
        "colab": {
          "base_uri": "https://localhost:8080/"
        },
        "id": "yB1lVz2vEBk0",
        "outputId": "23efb255-c904-4a8a-ee2f-f49e9e372b93"
      },
      "execution_count": 14,
      "outputs": [
        {
          "output_type": "stream",
          "name": "stdout",
          "text": [
            "output-2023-07-29_16:11:33\n",
            "Looking for file: /content/drive/My Drive/NN-data1/training_data_96_96.npy\n",
            "Loading previous training pickle...\n"
          ]
        }
      ]
    },
    {
      "cell_type": "code",
      "source": [
        "# Batch and shuffle the data\n",
        "train_dataset = tf.data.Dataset.from_tensor_slices(training_data) \\\n",
        "    .shuffle(BUFFER_SIZE).batch(BATCH_SIZE)"
      ],
      "metadata": {
        "id": "a5WYNwIuIqyR"
      },
      "execution_count": 15,
      "outputs": []
    },
    {
      "cell_type": "code",
      "source": [
        "# DCGAN1\n",
        "def build_generator(seed_size, channels):\n",
        "    model = Sequential()\n",
        "\n",
        "    model.add(Dense(4*4*256,input_dim=seed_size))\n",
        "    model.add(LeakyReLU(alpha=0.2))\n",
        "    model.add(Reshape((4,4,256)))\n",
        "\n",
        "    model.add(UpSampling2D())\n",
        "    model.add(Conv2D(256,kernel_size=3,padding=\"same\"))\n",
        "    model.add(BatchNormalization(momentum=0.8))\n",
        "    model.add(LeakyReLU(alpha=0.2))\n",
        "\n",
        "    model.add(UpSampling2D())\n",
        "    model.add(Conv2D(256,kernel_size=3,padding=\"same\"))\n",
        "    model.add(BatchNormalization(momentum=0.8))\n",
        "    model.add(LeakyReLU(alpha=0.2))\n",
        "\n",
        "    # Output resolution, additional upsampling\n",
        "    model.add(UpSampling2D())\n",
        "    model.add(Conv2D(128,kernel_size=3,padding=\"same\"))\n",
        "    model.add(BatchNormalization(momentum=0.8))\n",
        "    model.add(LeakyReLU(alpha=0.2))\n",
        "\n",
        "    if GENERATE_RES>1:\n",
        "      model.add(UpSampling2D(size=(GENERATE_RES,GENERATE_RES)))\n",
        "      model.add(Conv2D(128,kernel_size=3,padding=\"same\"))\n",
        "      model.add(BatchNormalization(momentum=0.8))\n",
        "      model.add(LeakyReLU(alpha=0.2))\n",
        "\n",
        "    # Final CNN layer\n",
        "    model.add(Conv2D(channels,kernel_size=3,padding=\"same\"))\n",
        "    model.add(Activation(\"tanh\"))\n",
        "\n",
        "    return model\n",
        "\n",
        "\n",
        "def build_discriminator(image_shape):\n",
        "    model = Sequential()\n",
        "\n",
        "    model.add(Conv2D(32, kernel_size=3, strides=2, input_shape=image_shape,\n",
        "                     padding=\"same\"))\n",
        "    model.add(LeakyReLU(alpha=0.2))\n",
        "\n",
        "    model.add(Dropout(0.25))\n",
        "    model.add(Conv2D(64, kernel_size=3, strides=2, padding=\"same\"))\n",
        "    model.add(ZeroPadding2D(padding=((0,1),(0,1))))\n",
        "    model.add(BatchNormalization(momentum=0.8))\n",
        "    model.add(LeakyReLU(alpha=0.2))\n",
        "\n",
        "    model.add(Dropout(0.25))\n",
        "    model.add(Conv2D(128, kernel_size=3, strides=2, padding=\"same\"))\n",
        "    model.add(BatchNormalization(momentum=0.8))\n",
        "    model.add(LeakyReLU(alpha=0.2))\n",
        "\n",
        "    model.add(Dropout(0.25))\n",
        "    model.add(Conv2D(256, kernel_size=3, strides=1, padding=\"same\"))\n",
        "    model.add(BatchNormalization(momentum=0.8))\n",
        "    model.add(LeakyReLU(alpha=0.2))\n",
        "\n",
        "    model.add(Dropout(0.25))\n",
        "    model.add(Conv2D(512, kernel_size=3, strides=1, padding=\"same\"))\n",
        "    model.add(BatchNormalization(momentum=0.8))\n",
        "    model.add(LeakyReLU(alpha=0.2))\n",
        "\n",
        "    model.add(Dropout(0.25))\n",
        "    model.add(Flatten())\n",
        "    model.add(Dense(1, activation='sigmoid'))\n",
        "\n",
        "    return model"
      ],
      "metadata": {
        "id": "21QyI8kgIu53"
      },
      "execution_count": 54,
      "outputs": []
    },
    {
      "cell_type": "code",
      "source": [
        "mm = 0.8\n",
        "al=0.2\n",
        "# DCGAN2\n",
        "def get_generator(seed_size, channels):\n",
        "  model = Sequential()\n",
        "\n",
        "  model.add(Dense(6*6*256, use_bias=False, input_shape=(100,)))\n",
        "  model.add(BatchNormalization(momentum=mm))\n",
        "  model.add(LeakyReLU(alpha=al))\n",
        "\n",
        "  model.add(Reshape((6, 6, 256)))\n",
        "  #assert model.output_shape == (None, 32, 32, 1024)\n",
        "\n",
        "  model.add(Conv2DTranspose(256, (3,3), strides=(2, 2), padding='same', use_bias=False))\n",
        "  #assert model.output_shape == (None, 64, 64, 512)\n",
        "  model.add(BatchNormalization(momentum=mm))\n",
        "  model.add(LeakyReLU(alpha=al))\n",
        "\n",
        "  model.add(Conv2DTranspose(256, (3,3), strides=(2,2), padding='same', use_bias=False))\n",
        "  #assert model.output_shape == (None, 128, 128, 256)\n",
        "  model.add(BatchNormalization(momentum=mm))\n",
        "  model.add(LeakyReLU(alpha=al))\n",
        "\n",
        "  model.add(Conv2DTranspose(128, (3,3), strides=(2,2), padding='same', use_bias=False))\n",
        "  #assert model.output_shape == (None, 256, 256, 128)\n",
        "  model.add(BatchNormalization(momentum=mm))\n",
        "  model.add(LeakyReLU(alpha=al))\n",
        "\n",
        "  model.add(Conv2DTranspose(64, (3,3), strides=(2,2), padding='same', use_bias=False))\n",
        "  #assert model.output_shape == (None, 512, 512, 64)\n",
        "  model.add(BatchNormalization(momentum=mm))\n",
        "  model.add(LeakyReLU(alpha=al))\n",
        "\n",
        "  model.add(Conv2DTranspose(3, (3,3), strides=(1,1), padding='same', use_bias=False))\n",
        "  #assert model.output_shape == (None, 512, 512, 3)\n",
        "  model.add(Activation(\"tanh\"))\n",
        "  model.compile()\n",
        "\n",
        "  return model\n",
        "\n",
        "def get_discriminator(image_shape):\n",
        "  model = Sequential()\n",
        "\n",
        "  model.add(Conv2D(64, (3,3), strides=(2,2), padding='same', input_shape=[96, 96, 3]))\n",
        "  model.add(LeakyReLU())\n",
        "  model.add(Dropout(0.3))\n",
        "\n",
        "  model.add(Conv2D(128, (3,3), strides=(2,2), padding='same'))\n",
        "  model.add(LeakyReLU())\n",
        "  model.add(Dropout(0.3))\n",
        "\n",
        "  model.add(Conv2D(256, (3,3), strides=(2,2), padding='same'))\n",
        "  model.add(LeakyReLU())\n",
        "  model.add(Dropout(0.3))\n",
        "\n",
        "  model.add(Conv2D(512, (3,3), strides=(2,2), padding='same'))\n",
        "  model.add(LeakyReLU())\n",
        "  model.add(Dropout(0.3))\n",
        "\n",
        "  model.add(Flatten())\n",
        "  model.add(Dense(64))\n",
        "  model.add(Dense(1, activation='sigmoid'))\n",
        "\n",
        "  model.compile()\n",
        "  return model"
      ],
      "metadata": {
        "id": "5mmJwI1qjoHm"
      },
      "execution_count": 28,
      "outputs": []
    },
    {
      "cell_type": "code",
      "source": [
        "32*2"
      ],
      "metadata": {
        "colab": {
          "base_uri": "https://localhost:8080/"
        },
        "id": "lgY3Wu-anl9m",
        "outputId": "b1929482-1e2a-4177-e5c6-24048785a683"
      },
      "execution_count": null,
      "outputs": [
        {
          "output_type": "execute_result",
          "data": {
            "text/plain": [
              "64"
            ]
          },
          "metadata": {},
          "execution_count": 111
        }
      ]
    },
    {
      "cell_type": "code",
      "source": [
        "def save_images(cnt,noise):\n",
        "  image_array = np.full((\n",
        "      PREVIEW_MARGIN + (PREVIEW_ROWS * (GENERATE_SQUARE+PREVIEW_MARGIN)),\n",
        "      PREVIEW_MARGIN + (PREVIEW_COLS * (GENERATE_SQUARE+PREVIEW_MARGIN)), IMAGE_CHANNELS),\n",
        "      255, dtype=np.uint8)\n",
        "\n",
        "  generated_images = generator.predict(noise)\n",
        "\n",
        "  generated_images = 0.5 * generated_images + 0.5\n",
        "\n",
        "  image_count = 0\n",
        "  for row in range(PREVIEW_ROWS):\n",
        "      for col in range(PREVIEW_COLS):\n",
        "        r = row * (GENERATE_SQUARE+16) + PREVIEW_MARGIN\n",
        "        c = col * (GENERATE_SQUARE+16) + PREVIEW_MARGIN\n",
        "        image_array[r:r+GENERATE_SQUARE,c:c+GENERATE_SQUARE] \\\n",
        "            = generated_images[image_count] * 255\n",
        "        image_count += 1\n",
        "\n",
        "\n",
        "  output_path = os.path.join(DATA_PATH,OUTPUT_PATH)\n",
        "  if not os.path.exists(output_path):\n",
        "    os.makedirs(output_path)\n",
        "\n",
        "  filename = os.path.join(output_path,f\"train-{cnt}.png\")\n",
        "  im = Image.fromarray(image_array)\n",
        "  im.save(filename)"
      ],
      "metadata": {
        "id": "tAWJrP8lI0JJ"
      },
      "execution_count": 29,
      "outputs": []
    },
    {
      "cell_type": "code",
      "source": [
        "# mm=0.8\n",
        "# al=0.2\n",
        "if CHOSEN_MODEL == 'DCGAN1':\n",
        "  generator = build_generator(SEED_SIZE, IMAGE_CHANNELS)\n",
        "elif CHOSEN_MODEL == 'DCGAN2':\n",
        "  generator = get_generator(SEED_SIZE, IMAGE_CHANNELS)\n",
        "else:\n",
        "  print('Unavailable model')\n",
        "\n",
        "noise = tf.random.normal([1, SEED_SIZE])\n",
        "generated_image = generator(noise, training=False)\n",
        "\n",
        "plt.imshow(generated_image[0, :, :, 0])"
      ],
      "metadata": {
        "colab": {
          "base_uri": "https://localhost:8080/",
          "height": 450
        },
        "id": "FYyravWCI3cJ",
        "outputId": "163f1cbd-82a0-4c4a-837b-dc967c52304b"
      },
      "execution_count": 30,
      "outputs": [
        {
          "output_type": "execute_result",
          "data": {
            "text/plain": [
              "<matplotlib.image.AxesImage at 0x7caeec136830>"
            ]
          },
          "metadata": {},
          "execution_count": 30
        },
        {
          "output_type": "display_data",
          "data": {
            "text/plain": [
              "<Figure size 640x480 with 1 Axes>"
            ],
            "image/png": "[encoded data removed]"
          },
          "metadata": {}
        }
      ]
    },
    {
      "cell_type": "code",
      "source": [
        "generator.summary()"
      ],
      "metadata": {
        "colab": {
          "base_uri": "https://localhost:8080/"
        },
        "id": "fDHA8-0KqIKs",
        "outputId": "ada0dd74-1f86-420a-c927-cdb542455fef"
      },
      "execution_count": 31,
      "outputs": [
        {
          "output_type": "stream",
          "name": "stdout",
          "text": [
            "Model: \"sequential_1\"\n",
            "_________________________________________________________________\n",
            " Layer (type)                Output Shape              Param #   \n",
            "=================================================================\n",
            " dense_1 (Dense)             (None, 4096)              413696    \n",
            "                                                                 \n",
            " leaky_re_lu_5 (LeakyReLU)   (None, 4096)              0         \n",
            "                                                                 \n",
            " reshape_1 (Reshape)         (None, 4, 4, 256)         0         \n",
            "                                                                 \n",
            " up_sampling2d_4 (UpSampling  (None, 8, 8, 256)        0         \n",
            " 2D)                                                             \n",
            "                                                                 \n",
            " conv2d_5 (Conv2D)           (None, 8, 8, 256)         590080    \n",
            "                                                                 \n",
            " batch_normalization_4 (Batc  (None, 8, 8, 256)        1024      \n",
            " hNormalization)                                                 \n",
            "                                                                 \n",
            " leaky_re_lu_6 (LeakyReLU)   (None, 8, 8, 256)         0         \n",
            "                                                                 \n",
            " up_sampling2d_5 (UpSampling  (None, 16, 16, 256)      0         \n",
            " 2D)                                                             \n",
            "                                                                 \n",
            " conv2d_6 (Conv2D)           (None, 16, 16, 256)       590080    \n",
            "                                                                 \n",
            " batch_normalization_5 (Batc  (None, 16, 16, 256)      1024      \n",
            " hNormalization)                                                 \n",
            "                                                                 \n",
            " leaky_re_lu_7 (LeakyReLU)   (None, 16, 16, 256)       0         \n",
            "                                                                 \n",
            " up_sampling2d_6 (UpSampling  (None, 32, 32, 256)      0         \n",
            " 2D)                                                             \n",
            "                                                                 \n",
            " conv2d_7 (Conv2D)           (None, 32, 32, 128)       295040    \n",
            "                                                                 \n",
            " batch_normalization_6 (Batc  (None, 32, 32, 128)      512       \n",
            " hNormalization)                                                 \n",
            "                                                                 \n",
            " leaky_re_lu_8 (LeakyReLU)   (None, 32, 32, 128)       0         \n",
            "                                                                 \n",
            " up_sampling2d_7 (UpSampling  (None, 96, 96, 128)      0         \n",
            " 2D)                                                             \n",
            "                                                                 \n",
            " conv2d_8 (Conv2D)           (None, 96, 96, 128)       147584    \n",
            "                                                                 \n",
            " batch_normalization_7 (Batc  (None, 96, 96, 128)      512       \n",
            " hNormalization)                                                 \n",
            "                                                                 \n",
            " leaky_re_lu_9 (LeakyReLU)   (None, 96, 96, 128)       0         \n",
            "                                                                 \n",
            " conv2d_9 (Conv2D)           (None, 96, 96, 3)         3459      \n",
            "                                                                 \n",
            " activation_1 (Activation)   (None, 96, 96, 3)         0         \n",
            "                                                                 \n",
            "=================================================================\n",
            "Total params: 2,043,011\n",
            "Trainable params: 2,041,475\n",
            "Non-trainable params: 1,536\n",
            "_________________________________________________________________\n"
          ]
        }
      ]
    },
    {
      "cell_type": "code",
      "source": [
        "generator.summary()"
      ],
      "metadata": {
        "colab": {
          "base_uri": "https://localhost:8080/"
        },
        "id": "KIosZKgImoxv",
        "outputId": "8205a66e-6700-4866-f2d0-c4e404d5444c"
      },
      "execution_count": null,
      "outputs": [
        {
          "output_type": "stream",
          "name": "stdout",
          "text": [
            "Model: \"sequential_11\"\n",
            "_________________________________________________________________\n",
            " Layer (type)                Output Shape              Param #   \n",
            "=================================================================\n",
            " dense_11 (Dense)            (None, 9216)              921600    \n",
            "                                                                 \n",
            " batch_normalization_44 (Bat  (None, 9216)             36864     \n",
            " chNormalization)                                                \n",
            "                                                                 \n",
            " leaky_re_lu_47 (LeakyReLU)  (None, 9216)              0         \n",
            "                                                                 \n",
            " reshape_11 (Reshape)        (None, 6, 6, 256)         0         \n",
            "                                                                 \n",
            " conv2d_transpose_30 (Conv2D  (None, 12, 12, 256)      589824    \n",
            " Transpose)                                                      \n",
            "                                                                 \n",
            " batch_normalization_45 (Bat  (None, 12, 12, 256)      1024      \n",
            " chNormalization)                                                \n",
            "                                                                 \n",
            " leaky_re_lu_48 (LeakyReLU)  (None, 12, 12, 256)       0         \n",
            "                                                                 \n",
            " conv2d_transpose_31 (Conv2D  (None, 24, 24, 256)      589824    \n",
            " Transpose)                                                      \n",
            "                                                                 \n",
            " batch_normalization_46 (Bat  (None, 24, 24, 256)      1024      \n",
            " chNormalization)                                                \n",
            "                                                                 \n",
            " leaky_re_lu_49 (LeakyReLU)  (None, 24, 24, 256)       0         \n",
            "                                                                 \n",
            " conv2d_transpose_32 (Conv2D  (None, 48, 48, 128)      294912    \n",
            " Transpose)                                                      \n",
            "                                                                 \n",
            " batch_normalization_47 (Bat  (None, 48, 48, 128)      512       \n",
            " chNormalization)                                                \n",
            "                                                                 \n",
            " leaky_re_lu_50 (LeakyReLU)  (None, 48, 48, 128)       0         \n",
            "                                                                 \n",
            " conv2d_transpose_33 (Conv2D  (None, 96, 96, 64)       73728     \n",
            " Transpose)                                                      \n",
            "                                                                 \n",
            " batch_normalization_48 (Bat  (None, 96, 96, 64)       256       \n",
            " chNormalization)                                                \n",
            "                                                                 \n",
            " leaky_re_lu_51 (LeakyReLU)  (None, 96, 96, 64)        0         \n",
            "                                                                 \n",
            " conv2d_transpose_34 (Conv2D  (None, 96, 96, 3)        1728      \n",
            " Transpose)                                                      \n",
            "                                                                 \n",
            " activation_3 (Activation)   (None, 96, 96, 3)         0         \n",
            "                                                                 \n",
            "=================================================================\n",
            "Total params: 2,511,296\n",
            "Trainable params: 2,491,456\n",
            "Non-trainable params: 19,840\n",
            "_________________________________________________________________\n"
          ]
        }
      ]
    },
    {
      "cell_type": "code",
      "source": [
        "image_shape = (GENERATE_SQUARE,GENERATE_SQUARE,IMAGE_CHANNELS)\n",
        "\n",
        "if CHOSEN_MODEL == 'DCGAN1':\n",
        "  discriminator = build_discriminator(image_shape)\n",
        "elif CHOSEN_MODEL == 'DCGAN2':\n",
        "  discriminator = get_discriminator(image_shape)\n",
        "else:\n",
        "  print(\"Unavailable model\")\n",
        "\n",
        "decision = discriminator(generated_image)\n",
        "print (decision)"
      ],
      "metadata": {
        "colab": {
          "base_uri": "https://localhost:8080/"
        },
        "id": "GxPjWUjQJYRn",
        "outputId": "17220d90-c8f5-450c-dcea-0bf596a8b9e6"
      },
      "execution_count": 32,
      "outputs": [
        {
          "output_type": "stream",
          "name": "stdout",
          "text": [
            "tf.Tensor([[0.49896005]], shape=(1, 1), dtype=float32)\n"
          ]
        }
      ]
    },
    {
      "cell_type": "code",
      "source": [
        "# This method returns a helper function to compute cross entropy loss\n",
        "cross_entropy = tf.keras.losses.BinaryCrossentropy()\n",
        "\n",
        "def discriminator_loss(real_output, fake_output):\n",
        "    real_loss = cross_entropy(tf.ones_like(real_output), real_output)\n",
        "    fake_loss = cross_entropy(tf.zeros_like(fake_output), fake_output)\n",
        "    total_loss = real_loss + fake_loss\n",
        "    return total_loss\n",
        "\n",
        "def generator_loss(fake_output):\n",
        "    return cross_entropy(tf.ones_like(fake_output), fake_output)"
      ],
      "metadata": {
        "id": "3F5lCyc8Jbye"
      },
      "execution_count": 33,
      "outputs": []
    },
    {
      "cell_type": "code",
      "source": [
        "generator_optimizer = tf.keras.optimizers.Adam(1.5e-4,0.5)\n",
        "discriminator_optimizer = tf.keras.optimizers.Adam(1.5e-4,0.5)"
      ],
      "metadata": {
        "id": "mH3hGkP3Je31"
      },
      "execution_count": 34,
      "outputs": []
    },
    {
      "cell_type": "code",
      "source": [
        "# Notice the use of `tf.function`\n",
        "# This annotation causes the function to be \"compiled\".\n",
        "@tf.function\n",
        "def train_step(images):\n",
        "  seed = tf.random.normal([BATCH_SIZE, SEED_SIZE])\n",
        "\n",
        "  with tf.GradientTape() as gen_tape, tf.GradientTape() as disc_tape:\n",
        "    generated_images = generator(seed, training=True)\n",
        "\n",
        "    real_output = discriminator(images, training=True)\n",
        "    fake_output = discriminator(generated_images, training=True)\n",
        "\n",
        "    gen_loss = generator_loss(fake_output)\n",
        "    disc_loss = discriminator_loss(real_output, fake_output)\n",
        "\n",
        "\n",
        "    gradients_of_generator = gen_tape.gradient(\\\n",
        "        gen_loss, generator.trainable_variables)\n",
        "    gradients_of_discriminator = disc_tape.gradient(\\\n",
        "        disc_loss, discriminator.trainable_variables)\n",
        "\n",
        "    generator_optimizer.apply_gradients(zip(\n",
        "        gradients_of_generator, generator.trainable_variables))\n",
        "    discriminator_optimizer.apply_gradients(zip(\n",
        "        gradients_of_discriminator,\n",
        "        discriminator.trainable_variables))\n",
        "  return gen_loss,disc_loss"
      ],
      "metadata": {
        "id": "9gCnSC4WJhMb"
      },
      "execution_count": 35,
      "outputs": []
    },
    {
      "cell_type": "code",
      "source": [
        "def train(dataset, epochs):\n",
        "  fixed_seed = np.random.normal(0, 1, (PREVIEW_ROWS * PREVIEW_COLS,\n",
        "                                       SEED_SIZE))\n",
        "  start = time.time()\n",
        "\n",
        "  starting_image_number = 0\n",
        "\n",
        "  output_path = os.path.join(DATA_PATH,OUTPUT_PATH)\n",
        "  if os.path.exists(output_path):\n",
        "    starting_image_number = len(os.listdir(output_path))\n",
        "\n",
        "  print(f'Starting image number: {starting_image_number}')\n",
        "\n",
        "  for epoch in range(epochs):\n",
        "    epoch_start = time.time()\n",
        "\n",
        "    gen_loss_list = []\n",
        "    disc_loss_list = []\n",
        "\n",
        "    for image_batch in dataset:\n",
        "      t = train_step(image_batch)\n",
        "      gen_loss_list.append(t[0])\n",
        "      disc_loss_list.append(t[1])\n",
        "\n",
        "    g_loss = sum(gen_loss_list) / len(gen_loss_list)\n",
        "    d_loss = sum(disc_loss_list) / len(disc_loss_list)\n",
        "\n",
        "    epoch_elapsed = time.time()-epoch_start\n",
        "    print (f'Epoch {epoch+1}, gen loss={g_loss},disc loss={d_loss},'\\\n",
        "           f' {hms_string(epoch_elapsed)}')\n",
        "    save_images(epoch + starting_image_number + 1,fixed_seed)\n",
        "\n",
        "  elapsed = time.time()-start\n",
        "  print (f'Training time: {hms_string(elapsed)}')"
      ],
      "metadata": {
        "id": "ORlqt57-JkBn"
      },
      "execution_count": 36,
      "outputs": []
    },
    {
      "cell_type": "code",
      "source": [
        "train(train_dataset, 100)"
      ],
      "metadata": {
        "id": "zaKSehrrzL8z",
        "outputId": "a274670f-4c79-4adb-f67f-a8ebb0610f95",
        "colab": {
          "base_uri": "https://localhost:8080/"
        }
      },
      "execution_count": 51,
      "outputs": [
        {
          "output_type": "stream",
          "name": "stdout",
          "text": [
            "Starting image number: 100\n",
            "Epoch 1, gen loss=2.288431167602539,disc loss=0.89159095287323, 0:00:18.95\n",
            "1/1 [==============================] - 0s 144ms/step\n",
            "Epoch 2, gen loss=2.2766647338867188,disc loss=0.8948452472686768, 0:00:20.31\n",
            "1/1 [==============================] - 0s 21ms/step\n",
            "Epoch 3, gen loss=2.3026983737945557,disc loss=0.9054230451583862, 0:00:20.62\n",
            "1/1 [==============================] - 0s 20ms/step\n",
            "Epoch 4, gen loss=2.289673089981079,disc loss=0.8563112020492554, 0:00:20.01\n",
            "1/1 [==============================] - 0s 20ms/step\n",
            "Epoch 5, gen loss=2.294889211654663,disc loss=0.8248621225357056, 0:00:19.78\n",
            "1/1 [==============================] - 0s 19ms/step\n",
            "Epoch 6, gen loss=2.3782994747161865,disc loss=0.818008303642273, 0:00:19.99\n",
            "1/1 [==============================] - 0s 20ms/step\n",
            "Epoch 7, gen loss=2.310152769088745,disc loss=0.8481882810592651, 0:00:20.17\n",
            "1/1 [==============================] - 0s 21ms/step\n",
            "Epoch 8, gen loss=2.3715689182281494,disc loss=0.8561269640922546, 0:00:20.16\n",
            "1/1 [==============================] - 0s 23ms/step\n",
            "Epoch 9, gen loss=2.435912847518921,disc loss=0.8119310140609741, 0:00:20.08\n",
            "1/1 [==============================] - 0s 20ms/step\n",
            "Epoch 10, gen loss=2.4719481468200684,disc loss=0.8592258095741272, 0:00:20.09\n",
            "1/1 [==============================] - 0s 20ms/step\n",
            "Epoch 11, gen loss=2.410398483276367,disc loss=0.80405592918396, 0:00:20.03\n",
            "1/1 [==============================] - 0s 21ms/step\n",
            "Epoch 12, gen loss=2.446448802947998,disc loss=0.8162190914154053, 0:00:19.95\n",
            "1/1 [==============================] - 0s 21ms/step\n",
            "Epoch 13, gen loss=2.354844331741333,disc loss=0.8711543679237366, 0:00:19.94\n",
            "1/1 [==============================] - 0s 19ms/step\n",
            "Epoch 14, gen loss=2.381674289703369,disc loss=0.8076331615447998, 0:00:19.98\n",
            "1/1 [==============================] - 0s 20ms/step\n",
            "Epoch 15, gen loss=2.4311697483062744,disc loss=0.8268771171569824, 0:00:20.03\n",
            "1/1 [==============================] - 0s 20ms/step\n",
            "Epoch 16, gen loss=2.433605194091797,disc loss=0.8337127566337585, 0:00:20.07\n",
            "1/1 [==============================] - 0s 21ms/step\n",
            "Epoch 17, gen loss=2.4220478534698486,disc loss=0.7829861044883728, 0:00:20.14\n",
            "1/1 [==============================] - 0s 20ms/step\n",
            "Epoch 18, gen loss=2.496222496032715,disc loss=0.762130856513977, 0:00:20.15\n",
            "1/1 [==============================] - 0s 23ms/step\n",
            "Epoch 19, gen loss=2.5260262489318848,disc loss=0.8065732717514038, 0:00:20.13\n",
            "1/1 [==============================] - 0s 20ms/step\n",
            "Epoch 20, gen loss=2.5100619792938232,disc loss=0.7829410433769226, 0:00:20.16\n",
            "1/1 [==============================] - 0s 20ms/step\n",
            "Epoch 21, gen loss=2.457357406616211,disc loss=0.792968213558197, 0:00:20.13\n",
            "1/1 [==============================] - 0s 20ms/step\n",
            "Epoch 22, gen loss=2.5496017932891846,disc loss=0.7821785807609558, 0:00:20.10\n",
            "1/1 [==============================] - 0s 20ms/step\n",
            "Epoch 23, gen loss=2.5383353233337402,disc loss=0.7377364635467529, 0:00:20.10\n",
            "1/1 [==============================] - 0s 21ms/step\n",
            "Epoch 24, gen loss=2.5831665992736816,disc loss=0.7698109149932861, 0:00:20.12\n",
            "1/1 [==============================] - 0s 21ms/step\n",
            "Epoch 25, gen loss=2.613499879837036,disc loss=0.7534239292144775, 0:00:20.13\n",
            "1/1 [==============================] - 0s 20ms/step\n",
            "Epoch 26, gen loss=2.5555689334869385,disc loss=0.7918320298194885, 0:00:20.17\n",
            "1/1 [==============================] - 0s 20ms/step\n",
            "Epoch 27, gen loss=2.6660373210906982,disc loss=0.7419914603233337, 0:00:20.13\n",
            "1/1 [==============================] - 0s 20ms/step\n",
            "Epoch 28, gen loss=2.5870935916900635,disc loss=0.7734864950180054, 0:00:20.16\n",
            "1/1 [==============================] - 0s 19ms/step\n",
            "Epoch 29, gen loss=2.621528148651123,disc loss=0.7872924208641052, 0:00:20.08\n",
            "1/1 [==============================] - 0s 26ms/step\n",
            "Epoch 30, gen loss=2.72712779045105,disc loss=0.8043432831764221, 0:00:20.02\n",
            "1/1 [==============================] - 0s 20ms/step\n",
            "Epoch 31, gen loss=2.6898927688598633,disc loss=0.7537676095962524, 0:00:20.00\n",
            "1/1 [==============================] - 0s 19ms/step\n",
            "Epoch 32, gen loss=2.6943132877349854,disc loss=0.7385675311088562, 0:00:19.94\n",
            "1/1 [==============================] - 0s 22ms/step\n",
            "Epoch 33, gen loss=2.6682872772216797,disc loss=0.7659086585044861, 0:00:19.92\n",
            "1/1 [==============================] - 0s 19ms/step\n",
            "Epoch 34, gen loss=2.7363874912261963,disc loss=0.7319782972335815, 0:00:19.97\n",
            "1/1 [==============================] - 0s 20ms/step\n",
            "Epoch 35, gen loss=2.7108445167541504,disc loss=0.7350767850875854, 0:00:19.99\n",
            "1/1 [==============================] - 0s 21ms/step\n",
            "Epoch 36, gen loss=2.7712860107421875,disc loss=0.7000862956047058, 0:00:20.05\n",
            "1/1 [==============================] - 0s 20ms/step\n",
            "Epoch 37, gen loss=2.7761569023132324,disc loss=0.7225798964500427, 0:00:20.09\n",
            "1/1 [==============================] - 0s 20ms/step\n",
            "Epoch 38, gen loss=2.77925705909729,disc loss=0.7289543151855469, 0:00:20.15\n",
            "1/1 [==============================] - 0s 20ms/step\n",
            "Epoch 39, gen loss=2.7962019443511963,disc loss=0.7450878024101257, 0:00:20.16\n",
            "1/1 [==============================] - 0s 20ms/step\n",
            "Epoch 40, gen loss=2.7759346961975098,disc loss=0.7161197066307068, 0:00:20.11\n",
            "1/1 [==============================] - 0s 20ms/step\n",
            "Epoch 41, gen loss=2.781453847885132,disc loss=0.7130705714225769, 0:00:20.11\n",
            "1/1 [==============================] - 0s 19ms/step\n",
            "Epoch 42, gen loss=2.869359016418457,disc loss=0.6796745657920837, 0:00:20.02\n",
            "1/1 [==============================] - 0s 20ms/step\n",
            "Epoch 43, gen loss=2.822491407394409,disc loss=0.7479175925254822, 0:00:20.01\n",
            "1/1 [==============================] - 0s 21ms/step\n",
            "Epoch 44, gen loss=2.8240773677825928,disc loss=0.7247915267944336, 0:00:20.00\n",
            "1/1 [==============================] - 0s 24ms/step\n",
            "Epoch 45, gen loss=2.901249647140503,disc loss=0.7004871368408203, 0:00:19.96\n",
            "1/1 [==============================] - 0s 21ms/step\n",
            "Epoch 46, gen loss=2.8075718879699707,disc loss=0.6903939843177795, 0:00:19.98\n",
            "1/1 [==============================] - 0s 20ms/step\n",
            "Epoch 47, gen loss=2.913778305053711,disc loss=0.6729875802993774, 0:00:20.01\n",
            "1/1 [==============================] - 0s 19ms/step\n",
            "Epoch 48, gen loss=2.8999078273773193,disc loss=0.673244297504425, 0:00:20.08\n",
            "1/1 [==============================] - 0s 20ms/step\n",
            "Epoch 49, gen loss=2.869633913040161,disc loss=0.7635846734046936, 0:00:20.14\n",
            "1/1 [==============================] - 0s 21ms/step\n",
            "Epoch 50, gen loss=2.917602777481079,disc loss=0.6866636276245117, 0:00:20.11\n",
            "1/1 [==============================] - 0s 20ms/step\n",
            "Epoch 51, gen loss=2.9528369903564453,disc loss=0.6982848644256592, 0:00:20.18\n",
            "1/1 [==============================] - 0s 22ms/step\n",
            "Epoch 52, gen loss=3.01231050491333,disc loss=0.6618252992630005, 0:00:20.15\n",
            "1/1 [==============================] - 0s 21ms/step\n",
            "Epoch 53, gen loss=3.012187957763672,disc loss=0.6601421236991882, 0:00:20.11\n",
            "1/1 [==============================] - 0s 20ms/step\n",
            "Epoch 54, gen loss=2.956080913543701,disc loss=0.6940138339996338, 0:00:20.07\n",
            "1/1 [==============================] - 0s 21ms/step\n",
            "Epoch 55, gen loss=2.985027313232422,disc loss=0.6591798663139343, 0:00:20.09\n",
            "1/1 [==============================] - 0s 21ms/step\n",
            "Epoch 56, gen loss=2.9892938137054443,disc loss=0.6828739047050476, 0:00:20.01\n",
            "1/1 [==============================] - 0s 21ms/step\n",
            "Epoch 57, gen loss=2.9572818279266357,disc loss=0.6551530957221985, 0:00:20.03\n",
            "1/1 [==============================] - 0s 42ms/step\n",
            "Epoch 58, gen loss=3.016023635864258,disc loss=0.6440047025680542, 0:00:19.99\n",
            "1/1 [==============================] - 0s 20ms/step\n",
            "Epoch 59, gen loss=3.0674779415130615,disc loss=0.6714244484901428, 0:00:20.04\n",
            "1/1 [==============================] - 0s 33ms/step\n",
            "Epoch 60, gen loss=3.036524534225464,disc loss=0.6499235033988953, 0:00:20.08\n",
            "1/1 [==============================] - 0s 22ms/step\n",
            "Epoch 61, gen loss=3.0568788051605225,disc loss=0.6243872046470642, 0:00:20.08\n",
            "1/1 [==============================] - 0s 33ms/step\n",
            "Epoch 62, gen loss=3.087440013885498,disc loss=0.6254625916481018, 0:00:20.10\n",
            "1/1 [==============================] - 0s 20ms/step\n",
            "Epoch 63, gen loss=3.0602989196777344,disc loss=0.6531290411949158, 0:00:20.13\n",
            "1/1 [==============================] - 0s 30ms/step\n",
            "Epoch 64, gen loss=3.0618298053741455,disc loss=0.6153241395950317, 0:00:20.14\n",
            "1/1 [==============================] - 0s 19ms/step\n",
            "Epoch 65, gen loss=3.123201847076416,disc loss=0.6391614675521851, 0:00:20.20\n",
            "1/1 [==============================] - 0s 29ms/step\n",
            "Epoch 66, gen loss=3.2303388118743896,disc loss=0.6501506567001343, 0:00:20.11\n",
            "1/1 [==============================] - 0s 20ms/step\n",
            "Epoch 67, gen loss=3.171603202819824,disc loss=0.6478188037872314, 0:00:20.11\n",
            "1/1 [==============================] - 0s 30ms/step\n",
            "Epoch 68, gen loss=3.233160972595215,disc loss=0.6336867809295654, 0:00:20.03\n",
            "1/1 [==============================] - 0s 21ms/step\n",
            "Epoch 69, gen loss=3.222081422805786,disc loss=0.5906418561935425, 0:00:20.09\n",
            "1/1 [==============================] - 0s 34ms/step\n",
            "Epoch 70, gen loss=3.21236252784729,disc loss=0.6377381682395935, 0:00:20.01\n",
            "1/1 [==============================] - 0s 19ms/step\n",
            "Epoch 71, gen loss=3.2308337688446045,disc loss=0.6395258903503418, 0:00:19.98\n",
            "1/1 [==============================] - 0s 33ms/step\n",
            "Epoch 72, gen loss=3.161552906036377,disc loss=0.6210623383522034, 0:00:20.49\n",
            "1/1 [==============================] - 0s 19ms/step\n",
            "Epoch 73, gen loss=3.240684747695923,disc loss=0.6197625398635864, 0:00:19.99\n",
            "1/1 [==============================] - 0s 35ms/step\n",
            "Epoch 74, gen loss=3.1567342281341553,disc loss=0.6323202252388, 0:00:20.04\n",
            "1/1 [==============================] - 0s 20ms/step\n",
            "Epoch 75, gen loss=3.2972140312194824,disc loss=0.6134883165359497, 0:00:20.48\n",
            "1/1 [==============================] - 0s 20ms/step\n",
            "Epoch 76, gen loss=3.2884676456451416,disc loss=0.5839096903800964, 0:00:20.09\n",
            "1/1 [==============================] - 0s 23ms/step\n",
            "Epoch 77, gen loss=3.281383752822876,disc loss=0.5857412815093994, 0:00:20.10\n",
            "1/1 [==============================] - 0s 21ms/step\n",
            "Epoch 78, gen loss=3.3129653930664062,disc loss=0.589777410030365, 0:00:20.12\n",
            "1/1 [==============================] - 0s 21ms/step\n",
            "Epoch 79, gen loss=3.2760608196258545,disc loss=0.6306120753288269, 0:00:20.13\n",
            "1/1 [==============================] - 0s 23ms/step\n",
            "Epoch 80, gen loss=3.3167595863342285,disc loss=0.6061031222343445, 0:00:20.17\n",
            "1/1 [==============================] - 0s 20ms/step\n",
            "Epoch 81, gen loss=3.3756511211395264,disc loss=0.6017389297485352, 0:00:20.17\n",
            "1/1 [==============================] - 0s 32ms/step\n",
            "Epoch 82, gen loss=3.359553575515747,disc loss=0.6092398762702942, 0:00:20.11\n",
            "1/1 [==============================] - 0s 21ms/step\n",
            "Epoch 83, gen loss=3.3791635036468506,disc loss=0.5656943321228027, 0:00:20.11\n",
            "1/1 [==============================] - 0s 48ms/step\n",
            "Epoch 84, gen loss=3.3684964179992676,disc loss=0.5754554271697998, 0:00:20.03\n",
            "1/1 [==============================] - 0s 21ms/step\n",
            "Epoch 85, gen loss=3.4330902099609375,disc loss=0.5939815044403076, 0:00:20.03\n",
            "1/1 [==============================] - 0s 35ms/step\n",
            "Epoch 86, gen loss=3.369224786758423,disc loss=0.5877724885940552, 0:00:20.02\n",
            "1/1 [==============================] - 0s 20ms/step\n",
            "Epoch 87, gen loss=3.4208076000213623,disc loss=0.572925329208374, 0:00:19.96\n",
            "1/1 [==============================] - 0s 32ms/step\n",
            "Epoch 88, gen loss=3.459197759628296,disc loss=0.5658937692642212, 0:00:20.01\n",
            "1/1 [==============================] - 0s 20ms/step\n",
            "Epoch 89, gen loss=3.382392168045044,disc loss=0.6122459769248962, 0:00:20.06\n",
            "1/1 [==============================] - 0s 29ms/step\n",
            "Epoch 90, gen loss=3.4418022632598877,disc loss=0.6232119202613831, 0:00:20.08\n",
            "1/1 [==============================] - 0s 20ms/step\n",
            "Epoch 91, gen loss=3.485102891921997,disc loss=0.5389964580535889, 0:00:20.10\n",
            "1/1 [==============================] - 0s 35ms/step\n",
            "Epoch 92, gen loss=3.509073495864868,disc loss=0.5757617950439453, 0:00:20.06\n",
            "1/1 [==============================] - 0s 23ms/step\n",
            "Epoch 93, gen loss=3.487630844116211,disc loss=0.5578044056892395, 0:00:20.15\n",
            "1/1 [==============================] - 0s 37ms/step\n",
            "Epoch 94, gen loss=3.434008836746216,disc loss=0.5675206780433655, 0:00:20.04\n",
            "1/1 [==============================] - 0s 20ms/step\n",
            "Epoch 95, gen loss=3.5731921195983887,disc loss=0.5636563897132874, 0:00:20.12\n",
            "1/1 [==============================] - 0s 34ms/step\n",
            "Epoch 96, gen loss=3.545743703842163,disc loss=0.5364438891410828, 0:00:20.10\n",
            "1/1 [==============================] - 0s 20ms/step\n",
            "Epoch 97, gen loss=3.5430428981781006,disc loss=0.5407059192657471, 0:00:20.12\n",
            "1/1 [==============================] - 0s 33ms/step\n",
            "Epoch 98, gen loss=3.526031255722046,disc loss=0.5421724319458008, 0:00:20.11\n",
            "1/1 [==============================] - 0s 20ms/step\n",
            "Epoch 99, gen loss=3.5472943782806396,disc loss=0.5638007521629333, 0:00:20.16\n",
            "1/1 [==============================] - 0s 33ms/step\n",
            "Epoch 100, gen loss=3.575399875640869,disc loss=0.534915566444397, 0:00:20.19\n",
            "1/1 [==============================] - 0s 20ms/step\n",
            "Training time: 0:34:00.79\n"
          ]
        }
      ]
    },
    {
      "cell_type": "code",
      "source": [
        "output_path = os.path.join(DATA_PATH,OUTPUT_PATH)\n",
        "if os.path.exists(output_path):\n",
        "  print('exists')\n",
        "else:\n",
        "  print(os.listdir(DATA_PATH))\n",
        "output_path"
      ],
      "metadata": {
        "id": "4vt2lzAGyEc-"
      },
      "execution_count": null,
      "outputs": []
    },
    {
      "cell_type": "code",
      "source": [
        "generator.save(os.path.join(DATA_PATH,f\"{TRAIN_DATA}_{CHOSEN_MODEL}_generator_{now}\"),save_format='tf')\n",
        "discriminator.save(os.path.join(DATA_PATH,f\"{TRAIN_DATA}_{CHOSEN_MODEL}_discriminator_{now}\"),save_format='tf')"
      ],
      "metadata": {
        "colab": {
          "base_uri": "https://localhost:8080/"
        },
        "id": "LGIo-PYBWMcq",
        "outputId": "f00ed47e-f97c-4ae6-b5e3-cce9960de938"
      },
      "execution_count": 52,
      "outputs": [
        {
          "output_type": "stream",
          "name": "stderr",
          "text": [
            "WARNING:absl:Found untraced functions such as _jit_compiled_convolution_op, _jit_compiled_convolution_op, _jit_compiled_convolution_op, _jit_compiled_convolution_op, _jit_compiled_convolution_op while saving (showing 5 of 6). These functions will not be directly callable after loading.\n",
            "WARNING:absl:Found untraced functions such as _jit_compiled_convolution_op, _jit_compiled_convolution_op, _jit_compiled_convolution_op, _jit_compiled_convolution_op, _jit_compiled_convolution_op while saving (showing 5 of 6). These functions will not be directly callable after loading.\n"
          ]
        }
      ]
    },
    {
      "cell_type": "code",
      "source": [
        "discriminator.compile()"
      ],
      "metadata": {
        "id": "MeJuDsONwgt3"
      },
      "execution_count": 41,
      "outputs": []
    }
  ]
}