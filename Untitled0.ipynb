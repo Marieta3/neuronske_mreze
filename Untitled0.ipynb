{
  "nbformat": 4,
  "nbformat_minor": 0,
  "metadata": {
    "colab": {
      "name": "Untitled0.ipynb",
      "provenance": [],
      "authorship_tag": "ABX9TyM5rIcLE1UFUGkXWyRmsi4s",
      "include_colab_link": true
    },
    "kernelspec": {
      "name": "python3",
      "display_name": "Python 3"
    },
    "language_info": {
      "name": "python"
    },
    "accelerator": "GPU",
    "gpuClass": "standard"
  },
  "cells": [
    {
      "cell_type": "markdown",
      "metadata": {
        "id": "view-in-github",
        "colab_type": "text"
      },
      "source": [
        "<a href=\"https://colab.research.google.com/github/Marieta3/neuronske_mreze/blob/main/Untitled0.ipynb\" target=\"_parent\"><img src=\"https://colab.research.google.com/assets/colab-badge.svg\" alt=\"Open In Colab\"/></a>"
      ]
    },
    {
      "cell_type": "code",
      "execution_count": null,
      "metadata": {
        "colab": {
          "base_uri": "https://localhost:8080/"
        },
        "id": "o_xsFYGpDQJm",
        "outputId": "82216c49-0771-4ab7-9ef7-aabe1d91a487"
      },
      "outputs": [
        {
          "output_type": "stream",
          "name": "stdout",
          "text": [
            "Mounted at /content/drive\n",
            "Note: using Google CoLab\n"
          ]
        }
      ],
      "source": [
        "from google.colab import drive\n",
        "drive.mount('/content/drive', force_remount=True)\n",
        "COLAB = True\n",
        "print(\"Note: using Google CoLab\")\n",
        "%tensorflow_version 2.x"
      ]
    },
    {
      "cell_type": "code",
      "source": [
        "import tensorflow as tf\n",
        "from tensorflow.keras.layers import Input, Reshape, Dropout, Dense \n",
        "from tensorflow.keras.layers import Flatten, BatchNormalization\n",
        "from tensorflow.keras.layers import Activation, ZeroPadding2D\n",
        "from tensorflow.keras.layers import LeakyReLU\n",
        "from tensorflow.keras.layers import UpSampling2D, Conv2D, Conv2DTranspose\n",
        "from tensorflow.keras.models import Sequential, Model, load_model\n",
        "from tensorflow.keras.optimizers import Adam\n",
        "import numpy as np\n",
        "from PIL import Image\n",
        "from tqdm import tqdm\n",
        "import os \n",
        "import time\n",
        "import matplotlib.pyplot as plt"
      ],
      "metadata": {
        "id": "fG6YVRCdDwSY"
      },
      "execution_count": null,
      "outputs": []
    },
    {
      "cell_type": "code",
      "source": [
        "# Nicely formatted time string\n",
        "def hms_string(sec_elapsed):\n",
        "    h = int(sec_elapsed / (60 * 60))\n",
        "    m = int((sec_elapsed % (60 * 60)) / 60)\n",
        "    s = sec_elapsed % 60\n",
        "    return \"{}:{:>02}:{:>05.2f}\".format(h, m, s)"
      ],
      "metadata": {
        "id": "vnaCXbAKD07b"
      },
      "execution_count": null,
      "outputs": []
    },
    {
      "cell_type": "code",
      "source": [
        "# Generation resolution - Must be square \n",
        "# Training data is also scaled to this.\n",
        "# Note GENERATE_RES 4 or higher  \n",
        "# will blow Google CoLab's memory and have not\n",
        "# been tested extensivly.\n",
        "GENERATE_RES = 3 # Generation resolution factor \n",
        "# (1=32, 2=64, 3=96, 4=128, etc.)\n",
        "GENERATE_SQUARE = 32 * GENERATE_RES # rows/cols (should be square)\n",
        "IMAGE_CHANNELS = 3\n",
        "\n",
        "# Preview image \n",
        "PREVIEW_ROWS = 4\n",
        "PREVIEW_COLS = 7\n",
        "PREVIEW_MARGIN = 16\n",
        "\n",
        "# Size vector to generate images from\n",
        "SEED_SIZE = 100\n",
        "\n",
        "# Configuration\n",
        "DATA_PATH = '/content/drive/My Drive'\n",
        "OUTPUT_PATH = 'output2'\n",
        "EPOCHS = 10\n",
        "BATCH_SIZE = 32\n",
        "BUFFER_SIZE = 60000\n",
        "\n",
        "print(f\"Will generate {GENERATE_SQUARE}px square images.\")"
      ],
      "metadata": {
        "colab": {
          "base_uri": "https://localhost:8080/"
        },
        "id": "Xq92LkASD51D",
        "outputId": "191edc58-a7d2-43d4-fdd6-92c9328b02b3"
      },
      "execution_count": null,
      "outputs": [
        {
          "output_type": "stream",
          "name": "stdout",
          "text": [
            "Will generate 96px square images.\n"
          ]
        }
      ]
    },
    {
      "cell_type": "code",
      "source": [
        "# Image set has 4117 images.  Can take over an hour \n",
        "# for initial preprocessing.\n",
        "# Because of this time needed, save a Numpy preprocessed file.\n",
        "# Note, that file is large enough to cause problems for \n",
        "# sume verisons of Pickle,\n",
        "# so Numpy binary files are used.\n",
        "training_binary_path = os.path.join(DATA_PATH,\n",
        "        f'training_data_{GENERATE_SQUARE}_{GENERATE_SQUARE}.npy')\n",
        "\n",
        "print(f\"Looking for file: {training_binary_path}\")\n",
        "\n",
        "if not os.path.isfile(training_binary_path):\n",
        "  start = time.time()\n",
        "  print(\"Loading training images...\")\n",
        "\n",
        "  training_data = []\n",
        "  folder_path = os.path.join(DATA_PATH,'still-life2')\n",
        "  cnt = 0\n",
        "  for filename in tqdm(os.listdir(folder_path)):\n",
        "    path = os.path.join(folder_path,filename)\n",
        "    image = Image.open(path).convert('RGB').resize((GENERATE_SQUARE,\n",
        "          GENERATE_SQUARE),Image.ANTIALIAS)\n",
        "    arr = np.asarray(image)\n",
        "    flip_1 = np.fliplr(arr)\n",
        "    training_data.append(np.asarray(image))\n",
        "\n",
        "  training_data = np.reshape(training_data,(-1,GENERATE_SQUARE,\n",
        "            GENERATE_SQUARE,IMAGE_CHANNELS))\n",
        "  training_data = training_data.astype(np.float32)\n",
        "  training_data = training_data / 127.5 - 1.\n",
        "\n",
        "\n",
        "  print(\"Saving training image binary...\")\n",
        "  np.save(training_binary_path,training_data)\n",
        "  elapsed = time.time()-start\n",
        "  print (f'Image preprocess time: {hms_string(elapsed)}')\n",
        "else:\n",
        "  print(\"Loading previous training pickle...\")\n",
        "  training_data = np.load(training_binary_path)"
      ],
      "metadata": {
        "colab": {
          "base_uri": "https://localhost:8080/"
        },
        "id": "yB1lVz2vEBk0",
        "outputId": "b9099048-b394-4947-d14a-5a8d436bfc06"
      },
      "execution_count": null,
      "outputs": [
        {
          "output_type": "stream",
          "name": "stdout",
          "text": [
            "Looking for file: /content/drive/My Drive/training_data_96_96.npy\n",
            "Loading previous training pickle...\n"
          ]
        }
      ]
    },
    {
      "cell_type": "code",
      "source": [
        "# Batch and shuffle the data\n",
        "train_dataset = tf.data.Dataset.from_tensor_slices(training_data) \\\n",
        "    .shuffle(BUFFER_SIZE).batch(BATCH_SIZE)"
      ],
      "metadata": {
        "id": "a5WYNwIuIqyR"
      },
      "execution_count": null,
      "outputs": []
    },
    {
      "cell_type": "code",
      "source": [
        "def build_generator(seed_size, channels):\n",
        "    model = Sequential()\n",
        "\n",
        "    model.add(Dense(4*4*256,input_dim=seed_size))\n",
        "    model.add(LeakyReLU(alpha=0.2))\n",
        "    model.add(Reshape((4,4,256)))\n",
        "\n",
        "    model.add(UpSampling2D())\n",
        "    model.add(Conv2D(256,kernel_size=3,padding=\"same\"))\n",
        "    model.add(BatchNormalization(momentum=0.8))\n",
        "    model.add(LeakyReLU(alpha=0.2))\n",
        "\n",
        "    model.add(UpSampling2D())\n",
        "    model.add(Conv2D(256,kernel_size=3,padding=\"same\"))\n",
        "    model.add(BatchNormalization(momentum=0.8))\n",
        "    model.add(LeakyReLU(alpha=0.2))\n",
        "   \n",
        "    # Output resolution, additional upsampling\n",
        "    model.add(UpSampling2D())\n",
        "    model.add(Conv2D(128,kernel_size=3,padding=\"same\"))\n",
        "    model.add(BatchNormalization(momentum=0.8))\n",
        "    model.add(LeakyReLU(alpha=0.2))\n",
        "\n",
        "    if GENERATE_RES>1:\n",
        "      model.add(UpSampling2D(size=(GENERATE_RES,GENERATE_RES)))\n",
        "      model.add(Conv2D(128,kernel_size=3,padding=\"same\"))\n",
        "      model.add(BatchNormalization(momentum=0.8))\n",
        "      model.add(LeakyReLU(alpha=0.2))\n",
        "\n",
        "    # Final CNN layer\n",
        "    model.add(Conv2D(channels,kernel_size=3,padding=\"same\"))\n",
        "    model.add(Activation(\"tanh\"))\n",
        "\n",
        "    return model\n",
        "\n",
        "\n",
        "def build_discriminator(image_shape):\n",
        "    model = Sequential()\n",
        "\n",
        "    model.add(Conv2D(32, kernel_size=3, strides=2, input_shape=image_shape, \n",
        "                     padding=\"same\"))\n",
        "    model.add(LeakyReLU(alpha=0.2))\n",
        "\n",
        "    model.add(Dropout(0.25))\n",
        "    model.add(Conv2D(64, kernel_size=3, strides=2, padding=\"same\"))\n",
        "    model.add(ZeroPadding2D(padding=((0,1),(0,1))))\n",
        "    model.add(BatchNormalization(momentum=0.8))\n",
        "    model.add(LeakyReLU(alpha=0.2))\n",
        "\n",
        "    model.add(Dropout(0.25))\n",
        "    model.add(Conv2D(128, kernel_size=3, strides=2, padding=\"same\"))\n",
        "    model.add(BatchNormalization(momentum=0.8))\n",
        "    model.add(LeakyReLU(alpha=0.2))\n",
        "\n",
        "    model.add(Dropout(0.25))\n",
        "    model.add(Conv2D(256, kernel_size=3, strides=1, padding=\"same\"))\n",
        "    model.add(BatchNormalization(momentum=0.8))\n",
        "    model.add(LeakyReLU(alpha=0.2))\n",
        "\n",
        "    model.add(Dropout(0.25))\n",
        "    model.add(Conv2D(512, kernel_size=3, strides=1, padding=\"same\"))\n",
        "    model.add(BatchNormalization(momentum=0.8))\n",
        "    model.add(LeakyReLU(alpha=0.2))\n",
        "\n",
        "    model.add(Dropout(0.25))\n",
        "    model.add(Flatten())\n",
        "    model.add(Dense(1, activation='sigmoid'))\n",
        "\n",
        "    return model"
      ],
      "metadata": {
        "id": "21QyI8kgIu53"
      },
      "execution_count": null,
      "outputs": []
    },
    {
      "cell_type": "code",
      "source": [
        "mm = 0.8\n",
        "al=0.2\n",
        "def get_generator(seed_size, channels):\n",
        "  model = Sequential()\n",
        "\n",
        "  model.add(Dense(6*6*256, use_bias=False, input_shape=(100,)))\n",
        "  model.add(BatchNormalization(momentum=mm))\n",
        "  model.add(LeakyReLU(alpha=al))\n",
        "\n",
        "  model.add(Reshape((6, 6, 256)))\n",
        "  #assert model.output_shape == (None, 32, 32, 1024)\n",
        "\n",
        "  model.add(Conv2DTranspose(256, (3,3), strides=(2, 2), padding='same', use_bias=False))\n",
        "  #assert model.output_shape == (None, 64, 64, 512)\n",
        "  model.add(BatchNormalization(momentum=mm))\n",
        "  model.add(LeakyReLU(alpha=al))\n",
        "\n",
        "  model.add(Conv2DTranspose(256, (3,3), strides=(2,2), padding='same', use_bias=False))\n",
        "  #assert model.output_shape == (None, 128, 128, 256)\n",
        "  model.add(BatchNormalization(momentum=mm))\n",
        "  model.add(LeakyReLU(alpha=al))\n",
        "\n",
        "  model.add(Conv2DTranspose(128, (3,3), strides=(2,2), padding='same', use_bias=False))\n",
        "  #assert model.output_shape == (None, 256, 256, 128)\n",
        "  model.add(BatchNormalization(momentum=mm))\n",
        "  model.add(LeakyReLU(alpha=al))\n",
        "\n",
        "  model.add(Conv2DTranspose(64, (3,3), strides=(2,2), padding='same', use_bias=False))\n",
        "  #assert model.output_shape == (None, 512, 512, 64)\n",
        "  model.add(BatchNormalization(momentum=mm))\n",
        "  model.add(LeakyReLU(alpha=al))\n",
        "  \n",
        "  model.add(Conv2DTranspose(3, (3,3), strides=(1,1), padding='same', use_bias=False))\n",
        "  #assert model.output_shape == (None, 512, 512, 3)\n",
        "  model.add(Activation(\"tanh\"))\n",
        "  model.compile()\n",
        "\n",
        "  return model\n",
        "\n",
        "def get_discriminator(image_shape):\n",
        "  model = Sequential()\n",
        "\n",
        "  model.add(Conv2D(64, (3,3), strides=(2,2), padding='same', input_shape=[96, 96, 3]))\n",
        "  model.add(LeakyReLU())\n",
        "  model.add(Dropout(0.3))\n",
        "\n",
        "  model.add(Conv2D(128, (3,3), strides=(2,2), padding='same'))\n",
        "  model.add(LeakyReLU())\n",
        "  model.add(Dropout(0.3))\n",
        "\n",
        "  model.add(Conv2D(256, (3,3), strides=(2,2), padding='same'))\n",
        "  model.add(LeakyReLU())\n",
        "  model.add(Dropout(0.3))  \n",
        "\n",
        "  model.add(Conv2D(512, (3,3), strides=(2,2), padding='same'))\n",
        "  model.add(LeakyReLU())\n",
        "  model.add(Dropout(0.3))\n",
        "\n",
        "  model.add(Flatten())\n",
        "  model.add(Dense(64))\n",
        "  model.add(Dense(1, activation='sigmoid'))\n",
        "\n",
        "  model.compile()\n",
        "  return model"
      ],
      "metadata": {
        "id": "5mmJwI1qjoHm"
      },
      "execution_count": 100,
      "outputs": []
    },
    {
      "cell_type": "code",
      "source": [
        "32*2"
      ],
      "metadata": {
        "colab": {
          "base_uri": "https://localhost:8080/"
        },
        "id": "lgY3Wu-anl9m",
        "outputId": "b1929482-1e2a-4177-e5c6-24048785a683"
      },
      "execution_count": 111,
      "outputs": [
        {
          "output_type": "execute_result",
          "data": {
            "text/plain": [
              "64"
            ]
          },
          "metadata": {},
          "execution_count": 111
        }
      ]
    },
    {
      "cell_type": "code",
      "source": [
        "def save_images(cnt,noise):\n",
        "  image_array = np.full(( \n",
        "      PREVIEW_MARGIN + (PREVIEW_ROWS * (GENERATE_SQUARE+PREVIEW_MARGIN)), \n",
        "      PREVIEW_MARGIN + (PREVIEW_COLS * (GENERATE_SQUARE+PREVIEW_MARGIN)), IMAGE_CHANNELS), \n",
        "      255, dtype=np.uint8)\n",
        "  \n",
        "  generated_images = generator.predict(noise)\n",
        "\n",
        "  generated_images = 0.5 * generated_images + 0.5\n",
        "\n",
        "  image_count = 0\n",
        "  for row in range(PREVIEW_ROWS):\n",
        "      for col in range(PREVIEW_COLS):\n",
        "        r = row * (GENERATE_SQUARE+16) + PREVIEW_MARGIN\n",
        "        c = col * (GENERATE_SQUARE+16) + PREVIEW_MARGIN\n",
        "        image_array[r:r+GENERATE_SQUARE,c:c+GENERATE_SQUARE] \\\n",
        "            = generated_images[image_count] * 255\n",
        "        image_count += 1\n",
        "\n",
        "          \n",
        "  output_path = os.path.join(DATA_PATH,OUTPUT_PATH)\n",
        "  if not os.path.exists(output_path):\n",
        "    os.makedirs(output_path)\n",
        "  \n",
        "  filename = os.path.join(output_path,f\"train-{cnt+1+50+50+50}.png\")\n",
        "  im = Image.fromarray(image_array)\n",
        "  im.save(filename)"
      ],
      "metadata": {
        "id": "tAWJrP8lI0JJ"
      },
      "execution_count": 116,
      "outputs": []
    },
    {
      "cell_type": "code",
      "source": [
        "mm=0.8\n",
        "al=0.2\n",
        "generator = get_generator(SEED_SIZE, IMAGE_CHANNELS)\n",
        "\n",
        "noise = tf.random.normal([1, SEED_SIZE])\n",
        "generated_image = generator(noise, training=False)\n",
        "\n",
        "plt.imshow(generated_image[0, :, :, 0])"
      ],
      "metadata": {
        "colab": {
          "base_uri": "https://localhost:8080/",
          "height": 286
        },
        "id": "FYyravWCI3cJ",
        "outputId": "814c996e-cf8c-4596-8dd8-a2b434143e5e"
      },
      "execution_count": 101,
      "outputs": [
        {
          "output_type": "execute_result",
          "data": {
            "text/plain": [
              "<matplotlib.image.AxesImage at 0x7f8950775c90>"
            ]
          },
          "metadata": {},
          "execution_count": 101
        },
        {
          "output_type": "display_data",
          "data": {
            "text/plain": [
              "<Figure size 432x288 with 1 Axes>"
            ],
            "image/png": "[encoded data removed]"
          },
          "metadata": {
            "needs_background": "light"
          }
        }
      ]
    },
    {
      "cell_type": "code",
      "source": [
        "generator.summary()"
      ],
      "metadata": {
        "colab": {
          "base_uri": "https://localhost:8080/"
        },
        "id": "fDHA8-0KqIKs",
        "outputId": "fd054344-24df-4eb0-9a6e-602d7876e516"
      },
      "execution_count": null,
      "outputs": [
        {
          "output_type": "stream",
          "name": "stdout",
          "text": [
            "Model: \"sequential_10\"\n",
            "_________________________________________________________________\n",
            " Layer (type)                Output Shape              Param #   \n",
            "=================================================================\n",
            " dense_10 (Dense)            (None, 9216)              921600    \n",
            "                                                                 \n",
            " batch_normalization_39 (Bat  (None, 9216)             36864     \n",
            " chNormalization)                                                \n",
            "                                                                 \n",
            " leaky_re_lu_42 (LeakyReLU)  (None, 9216)              0         \n",
            "                                                                 \n",
            " reshape_10 (Reshape)        (None, 6, 6, 256)         0         \n",
            "                                                                 \n",
            " conv2d_transpose_25 (Conv2D  (None, 12, 12, 256)      589824    \n",
            " Transpose)                                                      \n",
            "                                                                 \n",
            " batch_normalization_40 (Bat  (None, 12, 12, 256)      1024      \n",
            " chNormalization)                                                \n",
            "                                                                 \n",
            " leaky_re_lu_43 (LeakyReLU)  (None, 12, 12, 256)       0         \n",
            "                                                                 \n",
            " conv2d_transpose_26 (Conv2D  (None, 24, 24, 256)      589824    \n",
            " Transpose)                                                      \n",
            "                                                                 \n",
            " batch_normalization_41 (Bat  (None, 24, 24, 256)      1024      \n",
            " chNormalization)                                                \n",
            "                                                                 \n",
            " leaky_re_lu_44 (LeakyReLU)  (None, 24, 24, 256)       0         \n",
            "                                                                 \n",
            " conv2d_transpose_27 (Conv2D  (None, 48, 48, 128)      294912    \n",
            " Transpose)                                                      \n",
            "                                                                 \n",
            " batch_normalization_42 (Bat  (None, 48, 48, 128)      512       \n",
            " chNormalization)                                                \n",
            "                                                                 \n",
            " leaky_re_lu_45 (LeakyReLU)  (None, 48, 48, 128)       0         \n",
            "                                                                 \n",
            " conv2d_transpose_28 (Conv2D  (None, 96, 96, 64)       73728     \n",
            " Transpose)                                                      \n",
            "                                                                 \n",
            " batch_normalization_43 (Bat  (None, 96, 96, 64)       256       \n",
            " chNormalization)                                                \n",
            "                                                                 \n",
            " leaky_re_lu_46 (LeakyReLU)  (None, 96, 96, 64)        0         \n",
            "                                                                 \n",
            " conv2d_transpose_29 (Conv2D  (None, 96, 96, 3)        1728      \n",
            " Transpose)                                                      \n",
            "                                                                 \n",
            "=================================================================\n",
            "Total params: 2,511,296\n",
            "Trainable params: 2,491,456\n",
            "Non-trainable params: 19,840\n",
            "_________________________________________________________________\n"
          ]
        }
      ]
    },
    {
      "cell_type": "code",
      "source": [
        "generator.summary()"
      ],
      "metadata": {
        "colab": {
          "base_uri": "https://localhost:8080/"
        },
        "id": "KIosZKgImoxv",
        "outputId": "8205a66e-6700-4866-f2d0-c4e404d5444c"
      },
      "execution_count": null,
      "outputs": [
        {
          "output_type": "stream",
          "name": "stdout",
          "text": [
            "Model: \"sequential_11\"\n",
            "_________________________________________________________________\n",
            " Layer (type)                Output Shape              Param #   \n",
            "=================================================================\n",
            " dense_11 (Dense)            (None, 9216)              921600    \n",
            "                                                                 \n",
            " batch_normalization_44 (Bat  (None, 9216)             36864     \n",
            " chNormalization)                                                \n",
            "                                                                 \n",
            " leaky_re_lu_47 (LeakyReLU)  (None, 9216)              0         \n",
            "                                                                 \n",
            " reshape_11 (Reshape)        (None, 6, 6, 256)         0         \n",
            "                                                                 \n",
            " conv2d_transpose_30 (Conv2D  (None, 12, 12, 256)      589824    \n",
            " Transpose)                                                      \n",
            "                                                                 \n",
            " batch_normalization_45 (Bat  (None, 12, 12, 256)      1024      \n",
            " chNormalization)                                                \n",
            "                                                                 \n",
            " leaky_re_lu_48 (LeakyReLU)  (None, 12, 12, 256)       0         \n",
            "                                                                 \n",
            " conv2d_transpose_31 (Conv2D  (None, 24, 24, 256)      589824    \n",
            " Transpose)                                                      \n",
            "                                                                 \n",
            " batch_normalization_46 (Bat  (None, 24, 24, 256)      1024      \n",
            " chNormalization)                                                \n",
            "                                                                 \n",
            " leaky_re_lu_49 (LeakyReLU)  (None, 24, 24, 256)       0         \n",
            "                                                                 \n",
            " conv2d_transpose_32 (Conv2D  (None, 48, 48, 128)      294912    \n",
            " Transpose)                                                      \n",
            "                                                                 \n",
            " batch_normalization_47 (Bat  (None, 48, 48, 128)      512       \n",
            " chNormalization)                                                \n",
            "                                                                 \n",
            " leaky_re_lu_50 (LeakyReLU)  (None, 48, 48, 128)       0         \n",
            "                                                                 \n",
            " conv2d_transpose_33 (Conv2D  (None, 96, 96, 64)       73728     \n",
            " Transpose)                                                      \n",
            "                                                                 \n",
            " batch_normalization_48 (Bat  (None, 96, 96, 64)       256       \n",
            " chNormalization)                                                \n",
            "                                                                 \n",
            " leaky_re_lu_51 (LeakyReLU)  (None, 96, 96, 64)        0         \n",
            "                                                                 \n",
            " conv2d_transpose_34 (Conv2D  (None, 96, 96, 3)        1728      \n",
            " Transpose)                                                      \n",
            "                                                                 \n",
            " activation_3 (Activation)   (None, 96, 96, 3)         0         \n",
            "                                                                 \n",
            "=================================================================\n",
            "Total params: 2,511,296\n",
            "Trainable params: 2,491,456\n",
            "Non-trainable params: 19,840\n",
            "_________________________________________________________________\n"
          ]
        }
      ]
    },
    {
      "cell_type": "code",
      "source": [
        "image_shape = (GENERATE_SQUARE,GENERATE_SQUARE,IMAGE_CHANNELS)\n",
        "\n",
        "discriminator = get_discriminator(image_shape)\n",
        "decision = discriminator(generated_image)\n",
        "print (decision)"
      ],
      "metadata": {
        "colab": {
          "base_uri": "https://localhost:8080/"
        },
        "id": "GxPjWUjQJYRn",
        "outputId": "52cabfbe-ae1a-4765-95d6-b0b681599c0d"
      },
      "execution_count": null,
      "outputs": [
        {
          "output_type": "stream",
          "name": "stdout",
          "text": [
            "tf.Tensor([[0.5000494]], shape=(1, 1), dtype=float32)\n"
          ]
        }
      ]
    },
    {
      "cell_type": "code",
      "source": [
        "# This method returns a helper function to compute cross entropy loss\n",
        "cross_entropy = tf.keras.losses.BinaryCrossentropy()\n",
        "\n",
        "def discriminator_loss(real_output, fake_output):\n",
        "    real_loss = cross_entropy(tf.ones_like(real_output), real_output)\n",
        "    fake_loss = cross_entropy(tf.zeros_like(fake_output), fake_output)\n",
        "    total_loss = real_loss + fake_loss\n",
        "    return total_loss\n",
        "\n",
        "def generator_loss(fake_output):\n",
        "    return cross_entropy(tf.ones_like(fake_output), fake_output)"
      ],
      "metadata": {
        "id": "3F5lCyc8Jbye"
      },
      "execution_count": null,
      "outputs": []
    },
    {
      "cell_type": "code",
      "source": [
        "generator_optimizer = tf.keras.optimizers.Adam(1.5e-4,0.5)\n",
        "discriminator_optimizer = tf.keras.optimizers.Adam(1.5e-4,0.5)"
      ],
      "metadata": {
        "id": "mH3hGkP3Je31"
      },
      "execution_count": null,
      "outputs": []
    },
    {
      "cell_type": "code",
      "source": [
        "# Notice the use of `tf.function`\n",
        "# This annotation causes the function to be \"compiled\".\n",
        "@tf.function\n",
        "def train_step(images):\n",
        "  seed = tf.random.normal([BATCH_SIZE, SEED_SIZE])\n",
        "\n",
        "  with tf.GradientTape() as gen_tape, tf.GradientTape() as disc_tape:\n",
        "    generated_images = generator(seed, training=True)\n",
        "\n",
        "    real_output = discriminator(images, training=True)\n",
        "    fake_output = discriminator(generated_images, training=True)\n",
        "\n",
        "    gen_loss = generator_loss(fake_output)\n",
        "    disc_loss = discriminator_loss(real_output, fake_output)\n",
        "    \n",
        "\n",
        "    gradients_of_generator = gen_tape.gradient(\\\n",
        "        gen_loss, generator.trainable_variables)\n",
        "    gradients_of_discriminator = disc_tape.gradient(\\\n",
        "        disc_loss, discriminator.trainable_variables)\n",
        "\n",
        "    generator_optimizer.apply_gradients(zip(\n",
        "        gradients_of_generator, generator.trainable_variables))\n",
        "    discriminator_optimizer.apply_gradients(zip(\n",
        "        gradients_of_discriminator, \n",
        "        discriminator.trainable_variables))\n",
        "  return gen_loss,disc_loss"
      ],
      "metadata": {
        "id": "9gCnSC4WJhMb"
      },
      "execution_count": 107,
      "outputs": []
    },
    {
      "cell_type": "code",
      "source": [
        "def train(dataset, epochs):\n",
        "  fixed_seed = np.random.normal(0, 1, (PREVIEW_ROWS * PREVIEW_COLS, \n",
        "                                       SEED_SIZE))\n",
        "  start = time.time()\n",
        "\n",
        "  for epoch in range(epochs):\n",
        "    epoch_start = time.time()\n",
        "\n",
        "    gen_loss_list = []\n",
        "    disc_loss_list = []\n",
        "\n",
        "    for image_batch in dataset:\n",
        "      t = train_step(image_batch)\n",
        "      gen_loss_list.append(t[0])\n",
        "      disc_loss_list.append(t[1])\n",
        "\n",
        "    g_loss = sum(gen_loss_list) / len(gen_loss_list)\n",
        "    d_loss = sum(disc_loss_list) / len(disc_loss_list)\n",
        "\n",
        "    epoch_elapsed = time.time()-epoch_start\n",
        "    print (f'Epoch {epoch+1}, gen loss={g_loss},disc loss={d_loss},'\\\n",
        "           f' {hms_string(epoch_elapsed)}')\n",
        "    save_images(epoch,fixed_seed)\n",
        "\n",
        "  elapsed = time.time()-start\n",
        "  print (f'Training time: {hms_string(elapsed)}')"
      ],
      "metadata": {
        "id": "ORlqt57-JkBn"
      },
      "execution_count": 108,
      "outputs": []
    },
    {
      "cell_type": "code",
      "source": [
        "train(train_dataset, 50)"
      ],
      "metadata": {
        "colab": {
          "base_uri": "https://localhost:8080/"
        },
        "id": "OazcXQkMJqXI",
        "outputId": "a9b43f93-f8b0-4549-890b-7c04776fd17d"
      },
      "execution_count": 117,
      "outputs": [
        {
          "output_type": "stream",
          "name": "stdout",
          "text": [
            "Epoch 1, gen loss=1.508141279220581,disc loss=0.9357551336288452, 0:00:20.72\n",
            "Epoch 2, gen loss=1.5099996328353882,disc loss=0.9248414635658264, 0:00:12.76\n",
            "Epoch 3, gen loss=1.5361769199371338,disc loss=0.9054548144340515, 0:00:12.62\n",
            "Epoch 4, gen loss=1.5195645093917847,disc loss=0.946099042892456, 0:00:12.58\n",
            "Epoch 5, gen loss=1.5570296049118042,disc loss=0.9425258636474609, 0:00:12.54\n",
            "Epoch 6, gen loss=1.5087220668792725,disc loss=0.9575295448303223, 0:00:12.54\n",
            "Epoch 7, gen loss=1.4925287961959839,disc loss=0.9332115054130554, 0:00:12.58\n",
            "Epoch 8, gen loss=1.5148543119430542,disc loss=0.9313375949859619, 0:00:12.58\n",
            "Epoch 9, gen loss=1.5211600065231323,disc loss=0.928337812423706, 0:00:12.58\n",
            "Epoch 10, gen loss=1.5355069637298584,disc loss=0.9109556674957275, 0:00:12.60\n",
            "Epoch 11, gen loss=1.5565382242202759,disc loss=0.9098965525627136, 0:00:12.55\n",
            "Epoch 12, gen loss=1.5436824560165405,disc loss=0.9316757321357727, 0:00:12.54\n",
            "Epoch 13, gen loss=1.5327132940292358,disc loss=1.061631202697754, 0:00:12.54\n",
            "Epoch 14, gen loss=1.4263241291046143,disc loss=0.9323945641517639, 0:00:12.56\n",
            "Epoch 15, gen loss=1.476015567779541,disc loss=0.9269495010375977, 0:00:12.54\n",
            "Epoch 16, gen loss=1.525033712387085,disc loss=0.9310192465782166, 0:00:12.55\n",
            "Epoch 17, gen loss=1.5354214906692505,disc loss=0.9042955636978149, 0:00:12.57\n",
            "Epoch 18, gen loss=1.5297374725341797,disc loss=0.9214696288108826, 0:00:12.59\n",
            "Epoch 19, gen loss=1.5978327989578247,disc loss=1.0181628465652466, 0:00:12.56\n",
            "Epoch 20, gen loss=1.4635813236236572,disc loss=0.9400749206542969, 0:00:12.58\n",
            "Epoch 21, gen loss=1.506985068321228,disc loss=0.9174022674560547, 0:00:12.57\n",
            "Epoch 22, gen loss=1.523824691772461,disc loss=0.9260295629501343, 0:00:12.57\n",
            "Epoch 23, gen loss=1.5184612274169922,disc loss=0.9461387395858765, 0:00:12.56\n",
            "Epoch 24, gen loss=1.559577465057373,disc loss=0.9071186184883118, 0:00:12.56\n",
            "Epoch 25, gen loss=1.5644586086273193,disc loss=0.9221374988555908, 0:00:12.55\n",
            "Epoch 26, gen loss=1.5239522457122803,disc loss=0.9671363830566406, 0:00:12.56\n",
            "Epoch 27, gen loss=1.5281137228012085,disc loss=0.9108336567878723, 0:00:12.55\n",
            "Epoch 28, gen loss=1.496282696723938,disc loss=0.9326120018959045, 0:00:12.56\n",
            "Epoch 29, gen loss=1.5303549766540527,disc loss=0.9222363829612732, 0:00:12.56\n",
            "Epoch 30, gen loss=1.560367226600647,disc loss=0.9108801484107971, 0:00:12.56\n",
            "Epoch 31, gen loss=1.5604063272476196,disc loss=0.9078369736671448, 0:00:12.57\n",
            "Epoch 32, gen loss=1.6040427684783936,disc loss=0.9039943218231201, 0:00:12.58\n",
            "Epoch 33, gen loss=1.584731101989746,disc loss=0.9126452803611755, 0:00:12.56\n",
            "Epoch 34, gen loss=1.6147912740707397,disc loss=0.9050801396369934, 0:00:12.57\n",
            "Epoch 35, gen loss=1.591445803642273,disc loss=0.9162655472755432, 0:00:12.57\n",
            "Epoch 36, gen loss=1.6178178787231445,disc loss=0.8912328481674194, 0:00:12.58\n",
            "Epoch 37, gen loss=1.6411008834838867,disc loss=0.89046710729599, 0:00:12.57\n",
            "Epoch 38, gen loss=1.5951921939849854,disc loss=0.9148061871528625, 0:00:12.56\n",
            "Epoch 39, gen loss=1.522078275680542,disc loss=1.336395263671875, 0:00:12.57\n",
            "Epoch 40, gen loss=1.4234097003936768,disc loss=0.9179534912109375, 0:00:12.55\n",
            "Epoch 41, gen loss=1.4734143018722534,disc loss=0.9181517362594604, 0:00:12.57\n",
            "Epoch 42, gen loss=1.4670617580413818,disc loss=0.9294270277023315, 0:00:12.56\n",
            "Epoch 43, gen loss=1.5190285444259644,disc loss=0.8998165726661682, 0:00:12.55\n",
            "Epoch 44, gen loss=1.528930902481079,disc loss=0.9068011045455933, 0:00:12.55\n",
            "Epoch 45, gen loss=1.5807063579559326,disc loss=0.8848330974578857, 0:00:12.55\n",
            "Epoch 46, gen loss=1.58328378200531,disc loss=0.884990930557251, 0:00:12.56\n",
            "Epoch 47, gen loss=1.5770184993743896,disc loss=0.9213828444480896, 0:00:12.56\n",
            "Epoch 48, gen loss=1.632607102394104,disc loss=0.887919545173645, 0:00:12.58\n",
            "Epoch 49, gen loss=1.6185321807861328,disc loss=0.8843501806259155, 0:00:12.56\n",
            "Epoch 50, gen loss=1.6747795343399048,disc loss=0.8827001452445984, 0:00:12.57\n",
            "Training time: 0:10:48.12\n"
          ]
        }
      ]
    },
    {
      "cell_type": "code",
      "source": [
        "generator.save(os.path.join(DATA_PATH,\"1flower_generator_dcgan_tf\"),save_format='tf')\n",
        "discriminator.save(os.path.join(DATA_PATH,\"1flower_discriminator_dcgan_tf\"),save_format='tf')"
      ],
      "metadata": {
        "colab": {
          "base_uri": "https://localhost:8080/"
        },
        "id": "LGIo-PYBWMcq",
        "outputId": "b29bb9f6-bc21-4dd9-dabd-98dd103fb7f6"
      },
      "execution_count": null,
      "outputs": [
        {
          "output_type": "stream",
          "name": "stdout",
          "text": [
            "WARNING:tensorflow:Compiled the loaded model, but the compiled metrics have yet to be built. `model.compile_metrics` will be empty until you train or evaluate the model.\n",
            "INFO:tensorflow:Assets written to: /content/drive/My Drive/1flower_generator_dcgan_tf/assets\n",
            "WARNING:tensorflow:Compiled the loaded model, but the compiled metrics have yet to be built. `model.compile_metrics` will be empty until you train or evaluate the model.\n",
            "INFO:tensorflow:Assets written to: /content/drive/My Drive/1flower_discriminator_dcgan_tf/assets\n"
          ]
        }
      ]
    }
  ]
}