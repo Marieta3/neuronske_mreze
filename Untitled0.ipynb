{
  "nbformat": 4,
  "nbformat_minor": 0,
  "metadata": {
    "colab": {
      "provenance": [],
      "toc_visible": true,
      "gpuType": "T4",
      "include_colab_link": true
    },
    "kernelspec": {
      "name": "python3",
      "display_name": "Python 3"
    },
    "language_info": {
      "name": "python"
    },
    "accelerator": "GPU"
  },
  "cells": [
    {
      "cell_type": "markdown",
      "metadata": {
        "id": "view-in-github",
        "colab_type": "text"
      },
      "source": [
        "<a href=\"https://colab.research.google.com/github/Marieta3/neuronske_mreze/blob/main/Untitled0.ipynb\" target=\"_parent\"><img src=\"https://colab.research.google.com/assets/colab-badge.svg\" alt=\"Open In Colab\"/></a>"
      ]
    },
    {
      "cell_type": "code",
      "execution_count": 1,
      "metadata": {
        "colab": {
          "base_uri": "https://localhost:8080/"
        },
        "id": "o_xsFYGpDQJm",
        "outputId": "410b2dd0-2aee-4772-984c-31d07d7e50c0"
      },
      "outputs": [
        {
          "output_type": "stream",
          "name": "stdout",
          "text": [
            "Mounted at /content/drive\n",
            "Note: using Google CoLab\n",
            "Colab only includes TensorFlow 2.x; %tensorflow_version has no effect.\n"
          ]
        }
      ],
      "source": [
        "from google.colab import drive\n",
        "drive.mount('/content/drive', force_remount=True)\n",
        "COLAB = True\n",
        "print(\"Note: using Google CoLab\")\n",
        "%tensorflow_version 2.x"
      ]
    },
    {
      "cell_type": "code",
      "source": [
        "import tensorflow as tf\n",
        "from tensorflow.keras.layers import Input, Reshape, Dropout, Dense\n",
        "from tensorflow.keras.layers import Flatten, BatchNormalization\n",
        "from tensorflow.keras.layers import Activation, ZeroPadding2D\n",
        "from tensorflow.keras.layers import LeakyReLU\n",
        "from tensorflow.keras.layers import UpSampling2D, Conv2D, Conv2DTranspose\n",
        "from tensorflow.keras.models import Sequential, Model, load_model\n",
        "from tensorflow.keras.optimizers import Adam\n",
        "import numpy as np\n",
        "from PIL import Image\n",
        "from tqdm import tqdm\n",
        "import os\n",
        "import time\n",
        "import matplotlib.pyplot as plt"
      ],
      "metadata": {
        "id": "fG6YVRCdDwSY"
      },
      "execution_count": 2,
      "outputs": []
    },
    {
      "cell_type": "code",
      "source": [
        "# Nicely formatted time string\n",
        "def hms_string(sec_elapsed):\n",
        "    h = int(sec_elapsed / (60 * 60))\n",
        "    m = int((sec_elapsed % (60 * 60)) / 60)\n",
        "    s = sec_elapsed % 60\n",
        "    return \"{}:{:>02}:{:>05.2f}\".format(h, m, s)"
      ],
      "metadata": {
        "id": "vnaCXbAKD07b"
      },
      "execution_count": 3,
      "outputs": []
    },
    {
      "cell_type": "code",
      "source": [
        "# Generation resolution - Must be square\n",
        "# Training data is also scaled to this.\n",
        "# Note GENERATE_RES 4 or higher\n",
        "# will blow Google CoLab's memory and have not\n",
        "# been tested extensivly.\n",
        "GENERATE_RES = 3 # Generation resolution factor\n",
        "# (1=32, 2=64, 3=96, 4=128, etc.)\n",
        "GENERATE_SQUARE = 32 * GENERATE_RES # rows/cols (should be square)\n",
        "IMAGE_CHANNELS = 3\n",
        "\n",
        "# Preview image\n",
        "PREVIEW_ROWS = 4\n",
        "PREVIEW_COLS = 7\n",
        "PREVIEW_MARGIN = 16\n",
        "\n",
        "# Size vector to generate images from\n",
        "SEED_SIZE = 100\n",
        "\n",
        "# Configuration\n",
        "DATA_PATH = '/content/drive/My Drive/NN'\n",
        "TRAIN_DATA = 'Portraits'\n",
        "CHOSEN_MODEL = 'DCGAN1'    # options: DCGAN1, DCGAN2\n",
        "import datetime\n",
        "now = datetime.datetime.now().strftime('%Y-%m-%d_%H:%M:%S')\n",
        "OUTPUT_PATH = f'{TRAIN_DATA}_{CHOSEN_MODEL}_output_{now}'\n",
        "print(OUTPUT_PATH)\n",
        "\n",
        "EPOCHS = 10\n",
        "BATCH_SIZE = 32\n",
        "BUFFER_SIZE = 60000\n",
        "\n",
        "print(f\"Will generate {GENERATE_SQUARE}px square images.\")"
      ],
      "metadata": {
        "colab": {
          "base_uri": "https://localhost:8080/"
        },
        "id": "Xq92LkASD51D",
        "outputId": "8830b424-acf7-4bf6-8171-4ed7a8222049"
      },
      "execution_count": 4,
      "outputs": [
        {
          "output_type": "stream",
          "name": "stdout",
          "text": [
            "Portraits_DCGAN1_output_2023-08-06_13:51:35\n",
            "Will generate 96px square images.\n"
          ]
        }
      ]
    },
    {
      "cell_type": "code",
      "source": [
        "os.listdir(DATA_PATH)"
      ],
      "metadata": {
        "id": "Ic2ZOsMOvYao",
        "outputId": "50726d8d-0617-4a2b-c38c-14c96d624da0",
        "colab": {
          "base_uri": "https://localhost:8080/"
        }
      },
      "execution_count": 5,
      "outputs": [
        {
          "output_type": "execute_result",
          "data": {
            "text/plain": [
              "['output-mare0',\n",
              " '1flower_generator_dcgan_tf',\n",
              " '1flower_discriminator_dcgan_tf',\n",
              " 'output-mare1',\n",
              " '2landscape_generator_dcgan_tf',\n",
              " '2landscape_discriminator_dcgan_tf',\n",
              " 'output-mare2',\n",
              " 'training_data_96_96.npy']"
            ]
          },
          "metadata": {},
          "execution_count": 5
        }
      ]
    },
    {
      "cell_type": "code",
      "source": [
        "# temporary\n",
        "# OUTPUT_PATH = \"Portraits_DCGAN1_output_2023-07-29_16:53:15\"\n",
        "OUTPUT_PATH = \"Portraits_DCGAN1_output_2023-08-02_16:58:44\""
      ],
      "metadata": {
        "id": "qmq71gXHxvTb"
      },
      "execution_count": 5,
      "outputs": []
    },
    {
      "cell_type": "code",
      "source": [
        "# Image set has 4117 images.  Can take over an hour\n",
        "# for initial preprocessing.\n",
        "# Because of this time needed, save a Numpy preprocessed file.\n",
        "# Note, that file is large enough to cause problems for\n",
        "# sume verisons of Pickle,\n",
        "# so Numpy binary files are used.\n",
        "\n",
        "training_binary_path = os.path.join(DATA_PATH,\n",
        "        f'training_data_{GENERATE_SQUARE}_{GENERATE_SQUARE}.npy')\n",
        "\n",
        "print(f\"Looking for file: {training_binary_path}\")\n",
        "\n",
        "if not os.path.isfile(training_binary_path):\n",
        "  start = time.time()\n",
        "  print(\"Loading training images...\")\n",
        "\n",
        "  training_data = []\n",
        "  folder_path = os.path.join(DATA_PATH, TRAIN_DATA)\n",
        "  cnt = 0\n",
        "  for filename in tqdm(os.listdir(folder_path)):\n",
        "    path = os.path.join(folder_path,filename)\n",
        "    image = Image.open(path).convert('RGB').resize((GENERATE_SQUARE,\n",
        "          GENERATE_SQUARE),Image.ANTIALIAS)\n",
        "    arr = np.asarray(image)\n",
        "    flip_1 = np.fliplr(arr)\n",
        "    training_data.append(np.asarray(image))\n",
        "\n",
        "  training_data = np.reshape(training_data,(-1,GENERATE_SQUARE,\n",
        "            GENERATE_SQUARE,IMAGE_CHANNELS))\n",
        "  training_data = training_data.astype(np.float32)\n",
        "  training_data = training_data / 127.5 - 1.\n",
        "\n",
        "\n",
        "  print(\"Saving training image binary...\")\n",
        "  np.save(training_binary_path,training_data)\n",
        "  elapsed = time.time()-start\n",
        "  print (f'Image preprocess time: {hms_string(elapsed)}')\n",
        "else:\n",
        "  print(\"Loading previous training pickle...\")\n",
        "  training_data = np.load(training_binary_path)"
      ],
      "metadata": {
        "colab": {
          "base_uri": "https://localhost:8080/"
        },
        "id": "yB1lVz2vEBk0",
        "outputId": "878c0ea8-8928-4f02-b3d5-4a198258f8f6"
      },
      "execution_count": 6,
      "outputs": [
        {
          "output_type": "stream",
          "name": "stdout",
          "text": [
            "Looking for file: /content/drive/My Drive/NN/training_data_96_96.npy\n",
            "Loading previous training pickle...\n"
          ]
        }
      ]
    },
    {
      "cell_type": "code",
      "source": [
        "# Batch and shuffle the data\n",
        "train_dataset = tf.data.Dataset.from_tensor_slices(training_data) \\\n",
        "    .shuffle(BUFFER_SIZE).batch(BATCH_SIZE)"
      ],
      "metadata": {
        "id": "a5WYNwIuIqyR"
      },
      "execution_count": 7,
      "outputs": []
    },
    {
      "cell_type": "code",
      "source": [
        "# DCGAN1\n",
        "def build_generator(seed_size, channels):\n",
        "    model = Sequential()\n",
        "\n",
        "    model.add(Dense(4*4*256,input_dim=seed_size))\n",
        "    model.add(LeakyReLU(alpha=0.2))\n",
        "    model.add(Reshape((4,4,256)))\n",
        "\n",
        "    model.add(UpSampling2D())\n",
        "    model.add(Conv2D(256,kernel_size=3,padding=\"same\"))\n",
        "    model.add(BatchNormalization(momentum=0.8))\n",
        "    model.add(LeakyReLU(alpha=0.2))\n",
        "\n",
        "    model.add(UpSampling2D())\n",
        "    model.add(Conv2D(256,kernel_size=3,padding=\"same\"))\n",
        "    model.add(BatchNormalization(momentum=0.8))\n",
        "    model.add(LeakyReLU(alpha=0.2))\n",
        "\n",
        "    # Output resolution, additional upsampling\n",
        "    model.add(UpSampling2D())\n",
        "    model.add(Conv2D(128,kernel_size=3,padding=\"same\"))\n",
        "    model.add(BatchNormalization(momentum=0.8))\n",
        "    model.add(LeakyReLU(alpha=0.2))\n",
        "\n",
        "    if GENERATE_RES>1:\n",
        "      model.add(UpSampling2D(size=(GENERATE_RES,GENERATE_RES)))\n",
        "      model.add(Conv2D(128,kernel_size=3,padding=\"same\"))\n",
        "      model.add(BatchNormalization(momentum=0.8))\n",
        "      model.add(LeakyReLU(alpha=0.2))\n",
        "\n",
        "    # Final CNN layer\n",
        "    model.add(Conv2D(channels,kernel_size=3,padding=\"same\"))\n",
        "    model.add(Activation(\"tanh\"))\n",
        "\n",
        "    return model\n",
        "\n",
        "\n",
        "def build_discriminator(image_shape):\n",
        "    model = Sequential()\n",
        "\n",
        "    model.add(Conv2D(32, kernel_size=3, strides=2, input_shape=image_shape,\n",
        "                     padding=\"same\"))\n",
        "    model.add(LeakyReLU(alpha=0.2))\n",
        "\n",
        "    model.add(Dropout(0.25))\n",
        "    model.add(Conv2D(64, kernel_size=3, strides=2, padding=\"same\"))\n",
        "    model.add(ZeroPadding2D(padding=((0,1),(0,1))))\n",
        "    model.add(BatchNormalization(momentum=0.8))\n",
        "    model.add(LeakyReLU(alpha=0.2))\n",
        "\n",
        "    model.add(Dropout(0.25))\n",
        "    model.add(Conv2D(128, kernel_size=3, strides=2, padding=\"same\"))\n",
        "    model.add(BatchNormalization(momentum=0.8))\n",
        "    model.add(LeakyReLU(alpha=0.2))\n",
        "\n",
        "    model.add(Dropout(0.25))\n",
        "    model.add(Conv2D(256, kernel_size=3, strides=1, padding=\"same\"))\n",
        "    model.add(BatchNormalization(momentum=0.8))\n",
        "    model.add(LeakyReLU(alpha=0.2))\n",
        "\n",
        "    model.add(Dropout(0.25))\n",
        "    model.add(Conv2D(512, kernel_size=3, strides=1, padding=\"same\"))\n",
        "    model.add(BatchNormalization(momentum=0.8))\n",
        "    model.add(LeakyReLU(alpha=0.2))\n",
        "\n",
        "    model.add(Dropout(0.25))\n",
        "    model.add(Flatten())\n",
        "    model.add(Dense(1, activation='sigmoid'))\n",
        "\n",
        "    return model"
      ],
      "metadata": {
        "id": "21QyI8kgIu53"
      },
      "execution_count": 8,
      "outputs": []
    },
    {
      "cell_type": "code",
      "source": [
        "mm = 0.8\n",
        "al=0.2\n",
        "# DCGAN2\n",
        "def get_generator(seed_size, channels):\n",
        "  model = Sequential()\n",
        "\n",
        "  model.add(Dense(6*6*256, use_bias=False, input_shape=(100,)))\n",
        "  model.add(BatchNormalization(momentum=mm))\n",
        "  model.add(LeakyReLU(alpha=al))\n",
        "\n",
        "  model.add(Reshape((6, 6, 256)))\n",
        "  #assert model.output_shape == (None, 32, 32, 1024)\n",
        "\n",
        "  model.add(Conv2DTranspose(256, (3,3), strides=(2, 2), padding='same', use_bias=False))\n",
        "  #assert model.output_shape == (None, 64, 64, 512)\n",
        "  model.add(BatchNormalization(momentum=mm))\n",
        "  model.add(LeakyReLU(alpha=al))\n",
        "\n",
        "  model.add(Conv2DTranspose(256, (3,3), strides=(2,2), padding='same', use_bias=False))\n",
        "  #assert model.output_shape == (None, 128, 128, 256)\n",
        "  model.add(BatchNormalization(momentum=mm))\n",
        "  model.add(LeakyReLU(alpha=al))\n",
        "\n",
        "  model.add(Conv2DTranspose(128, (3,3), strides=(2,2), padding='same', use_bias=False))\n",
        "  #assert model.output_shape == (None, 256, 256, 128)\n",
        "  model.add(BatchNormalization(momentum=mm))\n",
        "  model.add(LeakyReLU(alpha=al))\n",
        "\n",
        "  model.add(Conv2DTranspose(64, (3,3), strides=(2,2), padding='same', use_bias=False))\n",
        "  #assert model.output_shape == (None, 512, 512, 64)\n",
        "  model.add(BatchNormalization(momentum=mm))\n",
        "  model.add(LeakyReLU(alpha=al))\n",
        "\n",
        "  model.add(Conv2DTranspose(3, (3,3), strides=(1,1), padding='same', use_bias=False))\n",
        "  #assert model.output_shape == (None, 512, 512, 3)\n",
        "  model.add(Activation(\"tanh\"))\n",
        "  model.compile()\n",
        "\n",
        "  return model\n",
        "\n",
        "def get_discriminator(image_shape):\n",
        "  model = Sequential()\n",
        "\n",
        "  model.add(Conv2D(64, (3,3), strides=(2,2), padding='same', input_shape=[96, 96, 3]))\n",
        "  model.add(LeakyReLU())\n",
        "  model.add(Dropout(0.3))\n",
        "\n",
        "  model.add(Conv2D(128, (3,3), strides=(2,2), padding='same'))\n",
        "  model.add(LeakyReLU())\n",
        "  model.add(Dropout(0.3))\n",
        "\n",
        "  model.add(Conv2D(256, (3,3), strides=(2,2), padding='same'))\n",
        "  model.add(LeakyReLU())\n",
        "  model.add(Dropout(0.3))\n",
        "\n",
        "  model.add(Conv2D(512, (3,3), strides=(2,2), padding='same'))\n",
        "  model.add(LeakyReLU())\n",
        "  model.add(Dropout(0.3))\n",
        "\n",
        "  model.add(Flatten())\n",
        "  model.add(Dense(64))\n",
        "  model.add(Dense(1, activation='sigmoid'))\n",
        "\n",
        "  model.compile()\n",
        "  return model"
      ],
      "metadata": {
        "id": "5mmJwI1qjoHm"
      },
      "execution_count": 9,
      "outputs": []
    },
    {
      "cell_type": "code",
      "source": [
        "32*2"
      ],
      "metadata": {
        "colab": {
          "base_uri": "https://localhost:8080/"
        },
        "id": "lgY3Wu-anl9m",
        "outputId": "b1929482-1e2a-4177-e5c6-24048785a683"
      },
      "execution_count": null,
      "outputs": [
        {
          "output_type": "execute_result",
          "data": {
            "text/plain": [
              "64"
            ]
          },
          "metadata": {},
          "execution_count": 111
        }
      ]
    },
    {
      "cell_type": "code",
      "source": [
        "def save_images(cnt,noise):\n",
        "  image_array = np.full((\n",
        "      PREVIEW_MARGIN + (PREVIEW_ROWS * (GENERATE_SQUARE+PREVIEW_MARGIN)),\n",
        "      PREVIEW_MARGIN + (PREVIEW_COLS * (GENERATE_SQUARE+PREVIEW_MARGIN)), IMAGE_CHANNELS),\n",
        "      255, dtype=np.uint8)\n",
        "\n",
        "  generated_images = generator.predict(noise)\n",
        "  print(\"nr generated images: \", len(generated_images))\n",
        "  generated_images = 0.5 * generated_images + 0.5\n",
        "\n",
        "  image_count = 0\n",
        "  for row in range(PREVIEW_ROWS):\n",
        "      for col in range(PREVIEW_COLS):\n",
        "        r = row * (GENERATE_SQUARE+16) + PREVIEW_MARGIN\n",
        "        c = col * (GENERATE_SQUARE+16) + PREVIEW_MARGIN\n",
        "        image_array[r:r+GENERATE_SQUARE,c:c+GENERATE_SQUARE] \\\n",
        "            = generated_images[image_count] * 255\n",
        "        image_count += 1\n",
        "\n",
        "\n",
        "  output_path = os.path.join(DATA_PATH,OUTPUT_PATH)\n",
        "  if not os.path.exists(output_path):\n",
        "    os.makedirs(output_path)\n",
        "\n",
        "  filename = os.path.join(output_path,f\"train-{cnt}.png\")\n",
        "  im = Image.fromarray(image_array)\n",
        "  im.save(filename)"
      ],
      "metadata": {
        "id": "tAWJrP8lI0JJ"
      },
      "execution_count": 10,
      "outputs": []
    },
    {
      "cell_type": "code",
      "source": [
        "# mm=0.8\n",
        "# al=0.2\n",
        "if CHOSEN_MODEL == 'DCGAN1':\n",
        "  generator = build_generator(SEED_SIZE, IMAGE_CHANNELS)\n",
        "elif CHOSEN_MODEL == 'DCGAN2':\n",
        "  generator = get_generator(SEED_SIZE, IMAGE_CHANNELS)\n",
        "else:\n",
        "  print('Unavailable model')\n",
        "\n",
        "noise = tf.random.normal([1, SEED_SIZE])\n",
        "generated_image = generator(noise, training=False)\n",
        "\n",
        "plt.imshow(generated_image[0, :, :, 0])\n",
        "# len(generated_image)\n",
        "\n",
        "# generated_images = generator.predict(noise)\n",
        "# len(generated_images)"
      ],
      "metadata": {
        "colab": {
          "base_uri": "https://localhost:8080/",
          "height": 450
        },
        "id": "FYyravWCI3cJ",
        "outputId": "c54f527b-f58c-4ded-e643-08c3ca818e6c"
      },
      "execution_count": 10,
      "outputs": [
        {
          "output_type": "execute_result",
          "data": {
            "text/plain": [
              "<matplotlib.image.AxesImage at 0x7cc6505ac8b0>"
            ]
          },
          "metadata": {},
          "execution_count": 10
        },
        {
          "output_type": "display_data",
          "data": {
            "text/plain": [
              "<Figure size 640x480 with 1 Axes>"
            ],
            "image/png": "[encoded data removed]"
          },
          "metadata": {}
        }
      ]
    },
    {
      "cell_type": "code",
      "source": [
        "generator = tf.keras.models.load_model(os.path.join(DATA_PATH,\"Portraits_DCGAN1_generator_2023-08-02_16:58:44\"))\n",
        "discriminator = tf.keras.models.load_model(os.path.join(DATA_PATH,\"Portraits_DCGAN1_discriminator_2023-08-02_16:58:44\"))"
      ],
      "metadata": {
        "id": "oYceUe2TCihE"
      },
      "execution_count": 11,
      "outputs": []
    },
    {
      "cell_type": "code",
      "source": [
        "generator.summary()"
      ],
      "metadata": {
        "colab": {
          "base_uri": "https://localhost:8080/"
        },
        "id": "fDHA8-0KqIKs",
        "outputId": "7bcc30f6-f2ae-49ee-e100-6744fca11889"
      },
      "execution_count": 12,
      "outputs": [
        {
          "output_type": "stream",
          "name": "stdout",
          "text": [
            "Model: \"sequential\"\n",
            "_________________________________________________________________\n",
            " Layer (type)                Output Shape              Param #   \n",
            "=================================================================\n",
            " dense (Dense)               (None, 4096)              413696    \n",
            "                                                                 \n",
            " leaky_re_lu (LeakyReLU)     (None, 4096)              0         \n",
            "                                                                 \n",
            " reshape (Reshape)           (None, 4, 4, 256)         0         \n",
            "                                                                 \n",
            " up_sampling2d (UpSampling2D  (None, 8, 8, 256)        0         \n",
            " )                                                               \n",
            "                                                                 \n",
            " conv2d (Conv2D)             (None, 8, 8, 256)         590080    \n",
            "                                                                 \n",
            " batch_normalization (BatchN  (None, 8, 8, 256)        1024      \n",
            " ormalization)                                                   \n",
            "                                                                 \n",
            " leaky_re_lu_1 (LeakyReLU)   (None, 8, 8, 256)         0         \n",
            "                                                                 \n",
            " up_sampling2d_1 (UpSampling  (None, 16, 16, 256)      0         \n",
            " 2D)                                                             \n",
            "                                                                 \n",
            " conv2d_1 (Conv2D)           (None, 16, 16, 256)       590080    \n",
            "                                                                 \n",
            " batch_normalization_1 (Batc  (None, 16, 16, 256)      1024      \n",
            " hNormalization)                                                 \n",
            "                                                                 \n",
            " leaky_re_lu_2 (LeakyReLU)   (None, 16, 16, 256)       0         \n",
            "                                                                 \n",
            " up_sampling2d_2 (UpSampling  (None, 32, 32, 256)      0         \n",
            " 2D)                                                             \n",
            "                                                                 \n",
            " conv2d_2 (Conv2D)           (None, 32, 32, 128)       295040    \n",
            "                                                                 \n",
            " batch_normalization_2 (Batc  (None, 32, 32, 128)      512       \n",
            " hNormalization)                                                 \n",
            "                                                                 \n",
            " leaky_re_lu_3 (LeakyReLU)   (None, 32, 32, 128)       0         \n",
            "                                                                 \n",
            " up_sampling2d_3 (UpSampling  (None, 96, 96, 128)      0         \n",
            " 2D)                                                             \n",
            "                                                                 \n",
            " conv2d_3 (Conv2D)           (None, 96, 96, 128)       147584    \n",
            "                                                                 \n",
            " batch_normalization_3 (Batc  (None, 96, 96, 128)      512       \n",
            " hNormalization)                                                 \n",
            "                                                                 \n",
            " leaky_re_lu_4 (LeakyReLU)   (None, 96, 96, 128)       0         \n",
            "                                                                 \n",
            " conv2d_4 (Conv2D)           (None, 96, 96, 3)         3459      \n",
            "                                                                 \n",
            " activation (Activation)     (None, 96, 96, 3)         0         \n",
            "                                                                 \n",
            "=================================================================\n",
            "Total params: 2,043,011\n",
            "Trainable params: 2,041,475\n",
            "Non-trainable params: 1,536\n",
            "_________________________________________________________________\n"
          ]
        }
      ]
    },
    {
      "cell_type": "code",
      "source": [
        "generator.summary()"
      ],
      "metadata": {
        "colab": {
          "base_uri": "https://localhost:8080/"
        },
        "id": "KIosZKgImoxv",
        "outputId": "8205a66e-6700-4866-f2d0-c4e404d5444c"
      },
      "execution_count": null,
      "outputs": [
        {
          "output_type": "stream",
          "name": "stdout",
          "text": [
            "Model: \"sequential_11\"\n",
            "_________________________________________________________________\n",
            " Layer (type)                Output Shape              Param #   \n",
            "=================================================================\n",
            " dense_11 (Dense)            (None, 9216)              921600    \n",
            "                                                                 \n",
            " batch_normalization_44 (Bat  (None, 9216)             36864     \n",
            " chNormalization)                                                \n",
            "                                                                 \n",
            " leaky_re_lu_47 (LeakyReLU)  (None, 9216)              0         \n",
            "                                                                 \n",
            " reshape_11 (Reshape)        (None, 6, 6, 256)         0         \n",
            "                                                                 \n",
            " conv2d_transpose_30 (Conv2D  (None, 12, 12, 256)      589824    \n",
            " Transpose)                                                      \n",
            "                                                                 \n",
            " batch_normalization_45 (Bat  (None, 12, 12, 256)      1024      \n",
            " chNormalization)                                                \n",
            "                                                                 \n",
            " leaky_re_lu_48 (LeakyReLU)  (None, 12, 12, 256)       0         \n",
            "                                                                 \n",
            " conv2d_transpose_31 (Conv2D  (None, 24, 24, 256)      589824    \n",
            " Transpose)                                                      \n",
            "                                                                 \n",
            " batch_normalization_46 (Bat  (None, 24, 24, 256)      1024      \n",
            " chNormalization)                                                \n",
            "                                                                 \n",
            " leaky_re_lu_49 (LeakyReLU)  (None, 24, 24, 256)       0         \n",
            "                                                                 \n",
            " conv2d_transpose_32 (Conv2D  (None, 48, 48, 128)      294912    \n",
            " Transpose)                                                      \n",
            "                                                                 \n",
            " batch_normalization_47 (Bat  (None, 48, 48, 128)      512       \n",
            " chNormalization)                                                \n",
            "                                                                 \n",
            " leaky_re_lu_50 (LeakyReLU)  (None, 48, 48, 128)       0         \n",
            "                                                                 \n",
            " conv2d_transpose_33 (Conv2D  (None, 96, 96, 64)       73728     \n",
            " Transpose)                                                      \n",
            "                                                                 \n",
            " batch_normalization_48 (Bat  (None, 96, 96, 64)       256       \n",
            " chNormalization)                                                \n",
            "                                                                 \n",
            " leaky_re_lu_51 (LeakyReLU)  (None, 96, 96, 64)        0         \n",
            "                                                                 \n",
            " conv2d_transpose_34 (Conv2D  (None, 96, 96, 3)        1728      \n",
            " Transpose)                                                      \n",
            "                                                                 \n",
            " activation_3 (Activation)   (None, 96, 96, 3)         0         \n",
            "                                                                 \n",
            "=================================================================\n",
            "Total params: 2,511,296\n",
            "Trainable params: 2,491,456\n",
            "Non-trainable params: 19,840\n",
            "_________________________________________________________________\n"
          ]
        }
      ]
    },
    {
      "cell_type": "code",
      "source": [
        "image_shape = (GENERATE_SQUARE,GENERATE_SQUARE,IMAGE_CHANNELS)\n",
        "\n",
        "if CHOSEN_MODEL == 'DCGAN1':\n",
        "  discriminator = build_discriminator(image_shape)\n",
        "elif CHOSEN_MODEL == 'DCGAN2':\n",
        "  discriminator = get_discriminator(image_shape)\n",
        "else:\n",
        "  print(\"Unavailable model\")\n",
        "\n",
        "decision = discriminator(generated_image)\n",
        "print (decision)"
      ],
      "metadata": {
        "colab": {
          "base_uri": "https://localhost:8080/"
        },
        "id": "GxPjWUjQJYRn",
        "outputId": "17d0b77b-8db9-4948-d1ae-8eb849e51f4c"
      },
      "execution_count": 11,
      "outputs": [
        {
          "output_type": "stream",
          "name": "stdout",
          "text": [
            "tf.Tensor([[0.4999302]], shape=(1, 1), dtype=float32)\n"
          ]
        }
      ]
    },
    {
      "cell_type": "code",
      "source": [
        "# This method returns a helper function to compute cross entropy loss\n",
        "cross_entropy = tf.keras.losses.BinaryCrossentropy()\n",
        "\n",
        "def discriminator_loss(real_output, fake_output):\n",
        "    real_loss = cross_entropy(tf.ones_like(real_output), real_output)\n",
        "    fake_loss = cross_entropy(tf.zeros_like(fake_output), fake_output)\n",
        "    total_loss = real_loss + fake_loss\n",
        "    return total_loss\n",
        "\n",
        "def generator_loss(fake_output):\n",
        "    return cross_entropy(tf.ones_like(fake_output), fake_output)"
      ],
      "metadata": {
        "id": "3F5lCyc8Jbye"
      },
      "execution_count": 13,
      "outputs": []
    },
    {
      "cell_type": "code",
      "source": [
        "generator_optimizer = tf.keras.optimizers.Adam(1.5e-4,0.5)\n",
        "discriminator_optimizer = tf.keras.optimizers.Adam(1.5e-4,0.5)"
      ],
      "metadata": {
        "id": "mH3hGkP3Je31"
      },
      "execution_count": 14,
      "outputs": []
    },
    {
      "cell_type": "code",
      "source": [
        "# Notice the use of `tf.function`\n",
        "# This annotation causes the function to be \"compiled\".\n",
        "@tf.function\n",
        "def train_step(images, epoch):\n",
        "  seed = tf.random.normal([BATCH_SIZE, SEED_SIZE])\n",
        "\n",
        "  with tf.GradientTape(persistent=True) as gen_tape, tf.GradientTape(persistent=True) as disc_tape:\n",
        "    generated_images = generator(seed, training=True)\n",
        "\n",
        "    real_output = discriminator(images, training=True)\n",
        "    fake_output = discriminator(generated_images, training=True)\n",
        "\n",
        "    gen_loss = generator_loss(fake_output)\n",
        "    disc_loss = discriminator_loss(real_output, fake_output)\n",
        "\n",
        "\n",
        "    gradients_of_generator = gen_tape.gradient(\\\n",
        "        gen_loss, generator.trainable_variables)\n",
        "    gradients_of_discriminator = disc_tape.gradient(\\\n",
        "        disc_loss, discriminator.trainable_variables)\n",
        "\n",
        "    generator_optimizer.apply_gradients(zip(\n",
        "        gradients_of_generator, generator.trainable_variables))\n",
        "    discriminator_optimizer.apply_gradients(zip(\n",
        "        gradients_of_discriminator,\n",
        "        discriminator.trainable_variables))\n",
        "\n",
        "    if epoch % 10 < 7: # or epoch % 5 == 0:\n",
        "      generated_images = generator(seed, training=True)\n",
        "\n",
        "      real_output = discriminator(images, training=False)\n",
        "      fake_output = discriminator(generated_images, training=False)\n",
        "\n",
        "      gen_loss = generator_loss(fake_output)\n",
        "\n",
        "\n",
        "      gradients_of_generator = gen_tape.gradient(\\\n",
        "          gen_loss, generator.trainable_variables)\n",
        "\n",
        "      generator_optimizer.apply_gradients(zip(\n",
        "          gradients_of_generator, generator.trainable_variables))\n",
        "    # else:\n",
        "    #   generated_images = generator(seed, training=False)\n",
        "\n",
        "    #   real_output = discriminator(images, training=True)\n",
        "    #   fake_output = discriminator(generated_images, training=True)\n",
        "\n",
        "    #   # gen_loss = generator_loss(fake_output)\n",
        "    #   disc_loss = discriminator_loss(real_output, fake_output)\n",
        "\n",
        "\n",
        "    #   # gradients_of_generator = gen_tape.gradient(\\\n",
        "    #   #     gen_loss, generator.trainable_variables)\n",
        "    #   gradients_of_discriminator = disc_tape.gradient(\\\n",
        "    #       disc_loss, discriminator.trainable_variables)\n",
        "\n",
        "    #   # generator_optimizer.apply_gradients(zip(\n",
        "    #   #     gradients_of_generator, generator.trainable_variables))\n",
        "    #   discriminator_optimizer.apply_gradients(zip(\n",
        "    #       gradients_of_discriminator,\n",
        "    #       discriminator.trainable_variables))\n",
        "\n",
        "\n",
        "  return gen_loss,disc_loss"
      ],
      "metadata": {
        "id": "9gCnSC4WJhMb"
      },
      "execution_count": 25,
      "outputs": []
    },
    {
      "cell_type": "code",
      "source": [
        "tf.random.normal([BATCH_SIZE, SEED_SIZE])"
      ],
      "metadata": {
        "id": "7qiQPmGTjTtr",
        "outputId": "cf11097c-b25b-4300-ce52-42db82496393",
        "colab": {
          "base_uri": "https://localhost:8080/"
        }
      },
      "execution_count": null,
      "outputs": [
        {
          "output_type": "execute_result",
          "data": {
            "text/plain": [
              "<tf.Tensor: shape=(32, 100), dtype=float32, numpy=\n",
              "array([[-0.24577074, -0.63904047, -1.4617815 , ..., -1.2722632 ,\n",
              "         0.77496916,  1.4082808 ],\n",
              "       [ 0.4845087 , -0.11990248,  0.62507385, ..., -0.04900192,\n",
              "        -0.62851965,  0.28467533],\n",
              "       [ 1.4301722 , -0.00519644,  0.95204026, ...,  0.25944194,\n",
              "        -0.6306454 ,  0.11036219],\n",
              "       ...,\n",
              "       [ 1.7979691 , -0.7326013 ,  1.0936426 , ..., -0.5108498 ,\n",
              "         1.6638991 , -0.64507884],\n",
              "       [-0.69002485,  1.3915963 ,  0.4331294 , ...,  1.3438038 ,\n",
              "         0.91253203,  1.1726991 ],\n",
              "       [ 1.3861476 , -1.0106785 ,  0.22192346, ..., -0.5854418 ,\n",
              "         1.1053951 ,  0.42500514]], dtype=float32)>"
            ]
          },
          "metadata": {},
          "execution_count": 36
        }
      ]
    },
    {
      "cell_type": "code",
      "source": [
        "np.random.normal(0, 1, (PREVIEW_ROWS * PREVIEW_COLS,\n",
        "                                       SEED_SIZE)).shape"
      ],
      "metadata": {
        "id": "SK9sQEgfje0B",
        "outputId": "d74792ad-553b-4331-e04f-ae9c750279ec",
        "colab": {
          "base_uri": "https://localhost:8080/"
        }
      },
      "execution_count": null,
      "outputs": [
        {
          "output_type": "execute_result",
          "data": {
            "text/plain": [
              "(28, 100)"
            ]
          },
          "metadata": {},
          "execution_count": 39
        }
      ]
    },
    {
      "cell_type": "code",
      "source": [
        "fixed_seed3 = None\n",
        "def train(dataset, epochs):\n",
        "  fixed_seed = np.random.normal(0, 1, (PREVIEW_ROWS * PREVIEW_COLS,\n",
        "                                       SEED_SIZE))\n",
        "  print(fixed_seed)\n",
        "  fixed_seed3 = fixed_seed\n",
        "  start = time.time()\n",
        "\n",
        "  starting_image_number = 0\n",
        "\n",
        "  output_path = os.path.join(DATA_PATH,OUTPUT_PATH)\n",
        "  if os.path.exists(output_path):\n",
        "    starting_image_number = len(os.listdir(output_path))\n",
        "\n",
        "  print(f'Starting image number: {starting_image_number}')\n",
        "\n",
        "  for epoch in range(epochs):\n",
        "    epoch_start = time.time()\n",
        "\n",
        "    gen_loss_list = []\n",
        "    disc_loss_list = []\n",
        "\n",
        "    for image_batch in dataset:\n",
        "      t = train_step(image_batch, epoch)\n",
        "      gen_loss_list.append(t[0])\n",
        "      disc_loss_list.append(t[1])\n",
        "\n",
        "    g_loss = sum(gen_loss_list) / len(gen_loss_list)\n",
        "    d_loss = sum(disc_loss_list) / len(disc_loss_list)\n",
        "\n",
        "    epoch_elapsed = time.time()-epoch_start\n",
        "    print (f'Epoch {epoch+1}, gen loss={g_loss},disc loss={d_loss},'\\\n",
        "           f' {hms_string(epoch_elapsed)}')\n",
        "    save_images(epoch + starting_image_number + 1,fixed_seed)\n",
        "\n",
        "  elapsed = time.time()-start\n",
        "  print (f'Training time: {hms_string(elapsed)}')"
      ],
      "metadata": {
        "id": "ORlqt57-JkBn"
      },
      "execution_count": 16,
      "outputs": []
    },
    {
      "cell_type": "code",
      "source": [
        "train(train_dataset, 100)"
      ],
      "metadata": {
        "colab": {
          "base_uri": "https://localhost:8080/"
        },
        "id": "zaKSehrrzL8z",
        "outputId": "2629a575-e1d5-4e19-b379-3eb4cbf2d371"
      },
      "execution_count": null,
      "outputs": [
        {
          "output_type": "stream",
          "name": "stdout",
          "text": [
            "[[-3.38113151e-01 -2.54922698e-01  2.93297187e-01 ...  1.10092586e+00\n",
            "   1.60379687e-01  7.07474865e-01]\n",
            " [ 1.23671012e+00  7.72986652e-01 -1.51137011e+00 ... -1.16455394e+00\n",
            "  -1.54411657e-01 -6.75505154e-01]\n",
            " [-1.46679350e+00 -5.02880683e-01  9.89534908e-01 ... -1.64935496e+00\n",
            "   7.48047059e-04  6.25016453e-01]\n",
            " ...\n",
            " [ 1.57457991e+00 -3.26588853e-02  6.41612431e-01 ...  2.85164164e-01\n",
            "  -9.86030754e-01 -1.16859955e+00]\n",
            " [-1.70969992e+00 -3.46677877e-02 -1.75608169e+00 ... -1.07024073e-01\n",
            "   5.75982350e-01  1.32872622e+00]\n",
            " [ 2.05291071e-01  1.79591565e+00 -7.03703361e-01 ...  7.80180947e-01\n",
            "   5.94706524e-01 -9.02481900e-01]]\n",
            "Starting image number: 500\n",
            "Epoch 1, gen loss=2.1814627647399902,disc loss=0.19823963940143585, 0:00:31.55\n",
            "1/1 [==============================] - 0s 21ms/step\n",
            "nr generated images:  28\n",
            "Epoch 2, gen loss=1.9851715564727783,disc loss=0.13564914464950562, 0:00:32.02\n",
            "1/1 [==============================] - 0s 29ms/step\n",
            "nr generated images:  28\n",
            "Epoch 3, gen loss=1.8973474502563477,disc loss=0.20643843710422516, 0:00:31.66\n",
            "1/1 [==============================] - 0s 20ms/step\n",
            "nr generated images:  28\n",
            "Epoch 4, gen loss=2.0402309894561768,disc loss=0.16575707495212555, 0:00:31.79\n",
            "1/1 [==============================] - 0s 39ms/step\n",
            "nr generated images:  28\n",
            "Epoch 5, gen loss=2.120208501815796,disc loss=0.1294087916612625, 0:00:31.85\n",
            "1/1 [==============================] - 0s 19ms/step\n",
            "nr generated images:  28\n",
            "Epoch 6, gen loss=1.8119014501571655,disc loss=0.1416943371295929, 0:00:31.75\n",
            "1/1 [==============================] - 0s 29ms/step\n",
            "nr generated images:  28\n",
            "Epoch 7, gen loss=1.9194540977478027,disc loss=0.21655119955539703, 0:00:31.69\n",
            "1/1 [==============================] - 0s 20ms/step\n",
            "nr generated images:  28\n",
            "Epoch 8, gen loss=8.527558326721191,disc loss=0.13952036201953888, 0:00:17.95\n",
            "1/1 [==============================] - 0s 30ms/step\n",
            "nr generated images:  28\n",
            "Epoch 9, gen loss=8.829580307006836,disc loss=0.15445862710475922, 0:00:17.93\n",
            "1/1 [==============================] - 0s 19ms/step\n",
            "nr generated images:  28\n",
            "Epoch 10, gen loss=8.720283508300781,disc loss=0.17562320828437805, 0:00:17.94\n",
            "1/1 [==============================] - 0s 19ms/step\n",
            "nr generated images:  28\n",
            "Epoch 11, gen loss=1.9552313089370728,disc loss=0.2078552395105362, 0:00:31.71\n",
            "1/1 [==============================] - 0s 19ms/step\n",
            "nr generated images:  28\n",
            "Epoch 12, gen loss=2.078770399093628,disc loss=0.16671256721019745, 0:00:31.73\n",
            "1/1 [==============================] - 0s 29ms/step\n",
            "nr generated images:  28\n",
            "Epoch 13, gen loss=1.9495435953140259,disc loss=0.14435316622257233, 0:00:31.74\n",
            "1/1 [==============================] - 0s 20ms/step\n",
            "nr generated images:  28\n",
            "Epoch 14, gen loss=2.0789501667022705,disc loss=0.15607008337974548, 0:00:31.76\n",
            "1/1 [==============================] - 0s 31ms/step\n",
            "nr generated images:  28\n"
          ]
        }
      ]
    },
    {
      "cell_type": "code",
      "source": [
        "output_path = os.path.join(DATA_PATH,OUTPUT_PATH)\n",
        "if os.path.exists(output_path):\n",
        "  print('exists')\n",
        "else:\n",
        "  print(os.listdir(DATA_PATH))\n",
        "output_path"
      ],
      "metadata": {
        "id": "4vt2lzAGyEc-"
      },
      "execution_count": null,
      "outputs": []
    },
    {
      "cell_type": "code",
      "source": [
        "generator.save(os.path.join(DATA_PATH,f\"{TRAIN_DATA}_{CHOSEN_MODEL}_generator_{now}\"),save_format='tf')\n",
        "discriminator.save(os.path.join(DATA_PATH,f\"{TRAIN_DATA}_{CHOSEN_MODEL}_discriminator_{now}\"),save_format='tf')"
      ],
      "metadata": {
        "colab": {
          "base_uri": "https://localhost:8080/"
        },
        "id": "LGIo-PYBWMcq",
        "outputId": "bb1428c2-bd05-40c9-bfe1-edc5d1de201a"
      },
      "execution_count": 21,
      "outputs": [
        {
          "output_type": "stream",
          "name": "stderr",
          "text": [
            "WARNING:absl:Found untraced functions such as _jit_compiled_convolution_op, _jit_compiled_convolution_op, _jit_compiled_convolution_op, _jit_compiled_convolution_op, _jit_compiled_convolution_op while saving (showing 5 of 6). These functions will not be directly callable after loading.\n",
            "WARNING:absl:Found untraced functions such as _jit_compiled_convolution_op, _jit_compiled_convolution_op, _jit_compiled_convolution_op, _jit_compiled_convolution_op, _jit_compiled_convolution_op while saving (showing 5 of 6). These functions will not be directly callable after loading.\n"
          ]
        }
      ]
    },
    {
      "cell_type": "code",
      "source": [
        "generator.save(os.path.join(DATA_PATH,\"Portraits_DCGAN1_generator_2023-08-02_16:58:44\"),save_format='tf')\n",
        "discriminator.save(os.path.join(DATA_PATH,\"Portraits_DCGAN1_discriminator_2023-08-02_16:58:44\"),save_format='tf')"
      ],
      "metadata": {
        "id": "0kYb1h-OQ8Dn"
      },
      "execution_count": null,
      "outputs": []
    },
    {
      "cell_type": "code",
      "source": [
        "generator.compile()\n",
        "discriminator.compile()"
      ],
      "metadata": {
        "id": "MeJuDsONwgt3"
      },
      "execution_count": 18,
      "outputs": []
    },
    {
      "cell_type": "code",
      "source": [
        "from PIL import Image\n",
        "dir = \"Portraits_DCGAN1_output_2023-07-29_16:53:15\"\n",
        "# Take list of paths for images\n",
        "image_path_list = os.listdir(os.path.join(DATA_PATH,dir))\n",
        "print(image_path_list)\n",
        "# Create a list of image objects\n",
        "image_list = [Image.open(os.path.join(DATA_PATH,dir, file)) for file in image_path_list]\n",
        "\n",
        "# Save the first image as a GIF file\n",
        "image_list[0].save(\n",
        "            os.path.join(DATA_PATH,\"Portraits_DCGAN1_result_2023-07-29_16:53:15\", 'animation.gif'),\n",
        "            save_all=True,\n",
        "            append_images=image_list[1:], # append rest of the images\n",
        "            duration=100, # in milliseconds\n",
        "            loop=0)"
      ],
      "metadata": {
        "id": "LqO7PThQBhzu",
        "outputId": "47729f89-3c0a-4d66-ef2f-157674cc0eba",
        "colab": {
          "base_uri": "https://localhost:8080/"
        }
      },
      "execution_count": null,
      "outputs": [
        {
          "output_type": "stream",
          "name": "stdout",
          "text": [
            "['train-1.png', 'train-2.png', 'train-3.png', 'train-4.png', 'train-5.png', 'train-6.png', 'train-7.png', 'train-8.png', 'train-9.png', 'train-10.png', 'train-11.png', 'train-12.png', 'train-13.png', 'train-14.png', 'train-15.png', 'train-16.png', 'train-17.png', 'train-18.png', 'train-19.png', 'train-20.png', 'train-21.png', 'train-22.png', 'train-23.png', 'train-24.png', 'train-25.png', 'train-26.png', 'train-27.png', 'train-28.png', 'train-29.png', 'train-30.png', 'train-31.png', 'train-32.png', 'train-33.png', 'train-34.png', 'train-35.png', 'train-36.png', 'train-37.png', 'train-38.png', 'train-39.png', 'train-40.png', 'train-41.png', 'train-42.png', 'train-43.png', 'train-44.png', 'train-45.png', 'train-46.png', 'train-47.png', 'train-48.png', 'train-49.png', 'train-50.png', 'train-51.png', 'train-52.png', 'train-53.png', 'train-54.png', 'train-55.png', 'train-56.png', 'train-57.png', 'train-58.png', 'train-59.png', 'train-60.png', 'train-61.png', 'train-62.png', 'train-63.png', 'train-64.png', 'train-65.png', 'train-66.png', 'train-67.png', 'train-68.png', 'train-69.png', 'train-70.png', 'train-71.png', 'train-72.png', 'train-73.png', 'train-74.png', 'train-75.png', 'train-76.png', 'train-77.png', 'train-78.png', 'train-79.png', 'train-80.png', 'train-81.png', 'train-82.png', 'train-83.png', 'train-84.png', 'train-85.png', 'train-86.png', 'train-87.png', 'train-88.png', 'train-89.png', 'train-90.png', 'train-91.png', 'train-92.png', 'train-93.png', 'train-94.png', 'train-95.png', 'train-96.png', 'train-97.png', 'train-98.png', 'train-99.png', 'train-100.png', 'train-101.png', 'train-102.png', 'train-103.png', 'train-104.png', 'train-105.png', 'train-106.png', 'train-107.png', 'train-108.png', 'train-109.png', 'train-110.png', 'train-111.png', 'train-112.png', 'train-113.png', 'train-114.png', 'train-115.png', 'train-116.png', 'train-117.png', 'train-118.png', 'train-119.png', 'train-120.png', 'train-121.png', 'train-122.png', 'train-123.png', 'train-124.png', 'train-125.png', 'train-126.png', 'train-127.png', 'train-128.png', 'train-129.png', 'train-130.png', 'train-131.png', 'train-132.png', 'train-133.png', 'train-134.png', 'train-135.png', 'train-136.png', 'train-137.png', 'train-138.png', 'train-139.png', 'train-140.png', 'train-141.png', 'train-142.png', 'train-143.png', 'train-144.png', 'train-145.png', 'train-146.png', 'train-147.png', 'train-148.png', 'train-149.png', 'train-150.png', 'train-151.png', 'train-152.png', 'train-153.png', 'train-154.png', 'train-155.png', 'train-156.png', 'train-157.png', 'train-158.png', 'train-159.png', 'train-160.png', 'train-161.png', 'train-162.png', 'train-163.png', 'train-164.png', 'train-165.png', 'train-166.png', 'train-167.png', 'train-168.png', 'train-169.png', 'train-170.png', 'train-171.png', 'train-172.png', 'train-173.png', 'train-174.png', 'train-175.png', 'train-176.png', 'train-177.png', 'train-178.png', 'train-179.png', 'train-180.png', 'train-181.png', 'train-182.png', 'train-183.png', 'train-184.png', 'train-185.png', 'train-186.png', 'train-187.png', 'train-188.png', 'train-189.png', 'train-190.png', 'train-191.png', 'train-192.png', 'train-193.png', 'train-194.png', 'train-195.png', 'train-196.png', 'train-197.png', 'train-198.png', 'train-199.png', 'train-200.png']\n"
          ]
        }
      ]
    }
  ]
}